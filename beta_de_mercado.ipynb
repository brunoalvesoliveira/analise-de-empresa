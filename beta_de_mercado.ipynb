{
 "cells": [
  {
   "cell_type": "markdown",
   "id": "7f86fbb6",
   "metadata": {},
   "source": [
    "## Importando bibliotecas"
   ]
  },
  {
   "cell_type": "code",
   "execution_count": 40,
   "id": "33c0f15b",
   "metadata": {},
   "outputs": [],
   "source": [
    "import pandas as pd\n",
    "import numpy as np\n",
    "import seaborn as sns\n",
    "import matplotlib.pyplot as plt\n",
    "import statsmodels.api as sm\n",
    "import yfinance as yf\n",
    "from matplotlib import style\n",
    "from sklearn.linear_model import LinearRegression"
   ]
  },
  {
   "cell_type": "code",
   "execution_count": 3,
   "id": "602fc658",
   "metadata": {},
   "outputs": [],
   "source": [
    "style.use('seaborn-muted')"
   ]
  },
  {
   "cell_type": "markdown",
   "id": "18f33c97",
   "metadata": {},
   "source": [
    "## Buscando dados"
   ]
  },
  {
   "cell_type": "code",
   "execution_count": 4,
   "id": "30c4edae",
   "metadata": {},
   "outputs": [
    {
     "name": "stdout",
     "output_type": "stream",
     "text": [
      "[*********************100%***********************]  1 of 1 completed\n",
      "[*********************100%***********************]  1 of 1 completed\n"
     ]
    },
    {
     "data": {
      "text/html": [
       "<div>\n",
       "<style scoped>\n",
       "    .dataframe tbody tr th:only-of-type {\n",
       "        vertical-align: middle;\n",
       "    }\n",
       "\n",
       "    .dataframe tbody tr th {\n",
       "        vertical-align: top;\n",
       "    }\n",
       "\n",
       "    .dataframe thead th {\n",
       "        text-align: right;\n",
       "    }\n",
       "</style>\n",
       "<table border=\"1\" class=\"dataframe\">\n",
       "  <thead>\n",
       "    <tr style=\"text-align: right;\">\n",
       "      <th></th>\n",
       "      <th>TOTS3.SA</th>\n",
       "      <th>^BVSP</th>\n",
       "    </tr>\n",
       "    <tr>\n",
       "      <th>Date</th>\n",
       "      <th></th>\n",
       "      <th></th>\n",
       "    </tr>\n",
       "  </thead>\n",
       "  <tbody>\n",
       "    <tr>\n",
       "      <th>2020-12-22</th>\n",
       "      <td>27.513096</td>\n",
       "      <td>116348.0</td>\n",
       "    </tr>\n",
       "    <tr>\n",
       "      <th>2020-12-23</th>\n",
       "      <td>27.662298</td>\n",
       "      <td>117857.0</td>\n",
       "    </tr>\n",
       "    <tr>\n",
       "      <th>2020-12-28</th>\n",
       "      <td>27.980598</td>\n",
       "      <td>119051.0</td>\n",
       "    </tr>\n",
       "    <tr>\n",
       "      <th>2020-12-29</th>\n",
       "      <td>27.910969</td>\n",
       "      <td>119475.0</td>\n",
       "    </tr>\n",
       "    <tr>\n",
       "      <th>2020-12-30</th>\n",
       "      <td>28.567465</td>\n",
       "      <td>119306.0</td>\n",
       "    </tr>\n",
       "  </tbody>\n",
       "</table>\n",
       "</div>"
      ],
      "text/plain": [
       "             TOTS3.SA     ^BVSP\n",
       "Date                           \n",
       "2020-12-22  27.513096  116348.0\n",
       "2020-12-23  27.662298  117857.0\n",
       "2020-12-28  27.980598  119051.0\n",
       "2020-12-29  27.910969  119475.0\n",
       "2020-12-30  28.567465  119306.0"
      ]
     },
     "execution_count": 4,
     "metadata": {},
     "output_type": "execute_result"
    }
   ],
   "source": [
    "tickers = ['TOTS3.SA', '^BVSP']\n",
    "dados = pd.DataFrame()\n",
    "\n",
    "for ticker in tickers:\n",
    "    dados[ticker] = yf.download(ticker, start='2020-01-01', end='2020-12-31')['Adj Close']\n",
    "    \n",
    "dados.tail()    "
   ]
  },
  {
   "cell_type": "markdown",
   "id": "bd6b0b6e",
   "metadata": {},
   "source": [
    "Calculando retorno simples"
   ]
  },
  {
   "cell_type": "code",
   "execution_count": 5,
   "id": "8f49c983",
   "metadata": {},
   "outputs": [],
   "source": [
    "def retorno_simples(dados):\n",
    "    retorno_simples = np.log(dados / dados.shift())\n",
    "    retorno_simples.dropna(inplace=True)\n",
    "    return retorno_simples"
   ]
  },
  {
   "cell_type": "code",
   "execution_count": 6,
   "id": "450b2262",
   "metadata": {},
   "outputs": [
    {
     "data": {
      "text/html": [
       "<div>\n",
       "<style scoped>\n",
       "    .dataframe tbody tr th:only-of-type {\n",
       "        vertical-align: middle;\n",
       "    }\n",
       "\n",
       "    .dataframe tbody tr th {\n",
       "        vertical-align: top;\n",
       "    }\n",
       "\n",
       "    .dataframe thead th {\n",
       "        text-align: right;\n",
       "    }\n",
       "</style>\n",
       "<table border=\"1\" class=\"dataframe\">\n",
       "  <thead>\n",
       "    <tr style=\"text-align: right;\">\n",
       "      <th></th>\n",
       "      <th>TOTS3.SA</th>\n",
       "      <th>^BVSP</th>\n",
       "    </tr>\n",
       "    <tr>\n",
       "      <th>Date</th>\n",
       "      <th></th>\n",
       "      <th></th>\n",
       "    </tr>\n",
       "  </thead>\n",
       "  <tbody>\n",
       "    <tr>\n",
       "      <th>2020-01-03</th>\n",
       "      <td>0.021036</td>\n",
       "      <td>-0.007330</td>\n",
       "    </tr>\n",
       "    <tr>\n",
       "      <th>2020-01-06</th>\n",
       "      <td>-0.023062</td>\n",
       "      <td>-0.007068</td>\n",
       "    </tr>\n",
       "    <tr>\n",
       "      <th>2020-01-07</th>\n",
       "      <td>0.004194</td>\n",
       "      <td>-0.001850</td>\n",
       "    </tr>\n",
       "    <tr>\n",
       "      <th>2020-01-08</th>\n",
       "      <td>-0.013511</td>\n",
       "      <td>-0.003564</td>\n",
       "    </tr>\n",
       "    <tr>\n",
       "      <th>2020-01-09</th>\n",
       "      <td>0.016393</td>\n",
       "      <td>-0.002584</td>\n",
       "    </tr>\n",
       "  </tbody>\n",
       "</table>\n",
       "</div>"
      ],
      "text/plain": [
       "            TOTS3.SA     ^BVSP\n",
       "Date                          \n",
       "2020-01-03  0.021036 -0.007330\n",
       "2020-01-06 -0.023062 -0.007068\n",
       "2020-01-07  0.004194 -0.001850\n",
       "2020-01-08 -0.013511 -0.003564\n",
       "2020-01-09  0.016393 -0.002584"
      ]
     },
     "execution_count": 6,
     "metadata": {},
     "output_type": "execute_result"
    }
   ],
   "source": [
    "retorno_simples(dados).head()"
   ]
  },
  {
   "cell_type": "code",
   "execution_count": 7,
   "id": "3ea4a654",
   "metadata": {},
   "outputs": [
    {
     "name": "stdout",
     "output_type": "stream",
     "text": [
      "246\n"
     ]
    }
   ],
   "source": [
    "print(len(retorno_simples(dados)))"
   ]
  },
  {
   "cell_type": "markdown",
   "id": "128322eb",
   "metadata": {},
   "source": [
    "Calculando retorno acumulado"
   ]
  },
  {
   "cell_type": "code",
   "execution_count": 8,
   "id": "b2217840",
   "metadata": {},
   "outputs": [],
   "source": [
    "def retorno_acumulado(retorno_simples):\n",
    "    retorno_acumulado = (1 + retorno_simples).cumprod()\n",
    "    retorno_acumulado.dropna(inplace=True)\n",
    "    #retorno_acumulado.iloc[0] = 1\n",
    "    return retorno_acumulado"
   ]
  },
  {
   "cell_type": "code",
   "execution_count": 9,
   "id": "22ee4fdc",
   "metadata": {},
   "outputs": [
    {
     "data": {
      "text/html": [
       "<div>\n",
       "<style scoped>\n",
       "    .dataframe tbody tr th:only-of-type {\n",
       "        vertical-align: middle;\n",
       "    }\n",
       "\n",
       "    .dataframe tbody tr th {\n",
       "        vertical-align: top;\n",
       "    }\n",
       "\n",
       "    .dataframe thead th {\n",
       "        text-align: right;\n",
       "    }\n",
       "</style>\n",
       "<table border=\"1\" class=\"dataframe\">\n",
       "  <thead>\n",
       "    <tr style=\"text-align: right;\">\n",
       "      <th></th>\n",
       "      <th>TOTS3.SA</th>\n",
       "      <th>^BVSP</th>\n",
       "    </tr>\n",
       "    <tr>\n",
       "      <th>Date</th>\n",
       "      <th></th>\n",
       "      <th></th>\n",
       "    </tr>\n",
       "  </thead>\n",
       "  <tbody>\n",
       "    <tr>\n",
       "      <th>2020-01-03</th>\n",
       "      <td>1.021036</td>\n",
       "      <td>0.992670</td>\n",
       "    </tr>\n",
       "    <tr>\n",
       "      <th>2020-01-06</th>\n",
       "      <td>0.997488</td>\n",
       "      <td>0.985654</td>\n",
       "    </tr>\n",
       "    <tr>\n",
       "      <th>2020-01-07</th>\n",
       "      <td>1.001671</td>\n",
       "      <td>0.983830</td>\n",
       "    </tr>\n",
       "    <tr>\n",
       "      <th>2020-01-08</th>\n",
       "      <td>0.988138</td>\n",
       "      <td>0.980324</td>\n",
       "    </tr>\n",
       "    <tr>\n",
       "      <th>2020-01-09</th>\n",
       "      <td>1.004336</td>\n",
       "      <td>0.977791</td>\n",
       "    </tr>\n",
       "  </tbody>\n",
       "</table>\n",
       "</div>"
      ],
      "text/plain": [
       "            TOTS3.SA     ^BVSP\n",
       "Date                          \n",
       "2020-01-03  1.021036  0.992670\n",
       "2020-01-06  0.997488  0.985654\n",
       "2020-01-07  1.001671  0.983830\n",
       "2020-01-08  0.988138  0.980324\n",
       "2020-01-09  1.004336  0.977791"
      ]
     },
     "execution_count": 9,
     "metadata": {},
     "output_type": "execute_result"
    }
   ],
   "source": [
    "retorno_acumulado(retorno_simples(dados)).head()"
   ]
  },
  {
   "cell_type": "markdown",
   "id": "5e88dbce",
   "metadata": {},
   "source": [
    "## Método I: regressão linear simples \n",
    "\n",
    "Utilizando a biblioteca Statsmodels"
   ]
  },
  {
   "cell_type": "code",
   "execution_count": 10,
   "id": "1885de04",
   "metadata": {},
   "outputs": [],
   "source": [
    "Y = retorno_simples(dados)['TOTS3.SA'].values\n",
    "x = retorno_simples(dados)['^BVSP'].values"
   ]
  },
  {
   "cell_type": "markdown",
   "id": "d036cda0",
   "metadata": {},
   "source": [
    "Modelo de regressão linear"
   ]
  },
  {
   "cell_type": "code",
   "execution_count": 12,
   "id": "0128c5b7",
   "metadata": {},
   "outputs": [],
   "source": [
    "X = sm.add_constant(x)"
   ]
  },
  {
   "cell_type": "code",
   "execution_count": 13,
   "id": "4773bde1",
   "metadata": {},
   "outputs": [],
   "source": [
    "modelo = sm.OLS(Y, X)"
   ]
  },
  {
   "cell_type": "code",
   "execution_count": 14,
   "id": "c8d90285",
   "metadata": {},
   "outputs": [],
   "source": [
    "resultado = modelo.fit()"
   ]
  },
  {
   "cell_type": "code",
   "execution_count": 15,
   "id": "51088b17",
   "metadata": {
    "scrolled": true
   },
   "outputs": [
    {
     "name": "stdout",
     "output_type": "stream",
     "text": [
      "                            OLS Regression Results                            \n",
      "==============================================================================\n",
      "Dep. Variable:                      y   R-squared:                       0.502\n",
      "Model:                            OLS   Adj. R-squared:                  0.500\n",
      "Method:                 Least Squares   F-statistic:                     245.6\n",
      "Date:                Thu, 11 Nov 2021   Prob (F-statistic):           9.11e-39\n",
      "Time:                        10:03:30   Log-Likelihood:                 539.22\n",
      "No. Observations:                 246   AIC:                            -1074.\n",
      "Df Residuals:                     244   BIC:                            -1067.\n",
      "Df Model:                           1                                         \n",
      "Covariance Type:            nonrobust                                         \n",
      "==============================================================================\n",
      "                 coef    std err          t      P>|t|      [0.025      0.975]\n",
      "------------------------------------------------------------------------------\n",
      "const          0.0009      0.002      0.523      0.602      -0.003       0.004\n",
      "x1             0.9374      0.060     15.671      0.000       0.820       1.055\n",
      "==============================================================================\n",
      "Omnibus:                       21.111   Durbin-Watson:                   2.098\n",
      "Prob(Omnibus):                  0.000   Jarque-Bera (JB):               73.534\n",
      "Skew:                          -0.162   Prob(JB):                     1.08e-16\n",
      "Kurtosis:                       5.659   Cond. No.                         34.6\n",
      "==============================================================================\n",
      "\n",
      "Notes:\n",
      "[1] Standard Errors assume that the covariance matrix of the errors is correctly specified.\n"
     ]
    }
   ],
   "source": [
    "print(resultado.summary())"
   ]
  },
  {
   "cell_type": "markdown",
   "id": "9f5c6ec6",
   "metadata": {},
   "source": [
    "### Estimando a reta de regressão\n",
    "\n",
    "Obtendo os coeficientes para poder criar a reta de regressão estimada."
   ]
  },
  {
   "cell_type": "code",
   "execution_count": 16,
   "id": "993921bd",
   "metadata": {},
   "outputs": [],
   "source": [
    "coef_linear, coef_angular = resultado.params"
   ]
  },
  {
   "cell_type": "code",
   "execution_count": 17,
   "id": "a19e3259",
   "metadata": {},
   "outputs": [],
   "source": [
    "reta = coef_linear + coef_angular * x"
   ]
  },
  {
   "cell_type": "code",
   "execution_count": 18,
   "id": "e7abe0e3",
   "metadata": {},
   "outputs": [
    {
     "name": "stdout",
     "output_type": "stream",
     "text": [
      "Beta: 0.94\n"
     ]
    }
   ],
   "source": [
    "print(f'Beta: {np.round(coef_angular, 2)}')"
   ]
  },
  {
   "cell_type": "code",
   "execution_count": 19,
   "id": "e13e8eaa",
   "metadata": {},
   "outputs": [
    {
     "name": "stdout",
     "output_type": "stream",
     "text": [
      "492\n"
     ]
    }
   ],
   "source": [
    "X = X.reshape(-1, 1)\n",
    "print(len(X))"
   ]
  },
  {
   "cell_type": "code",
   "execution_count": 20,
   "id": "c3e296fe",
   "metadata": {},
   "outputs": [
    {
     "name": "stdout",
     "output_type": "stream",
     "text": [
      "246\n"
     ]
    }
   ],
   "source": [
    "reta = reta.reshape(-1, 1)\n",
    "print(len(reta))"
   ]
  },
  {
   "cell_type": "markdown",
   "id": "b361ceb9",
   "metadata": {},
   "source": [
    "Plotando o gráfico"
   ]
  },
  {
   "cell_type": "code",
   "execution_count": 21,
   "id": "843ebe48",
   "metadata": {},
   "outputs": [
    {
     "data": {
      "image/png": "[encoded data removed]",
      "text/plain": [
       "<Figure size 864x432 with 1 Axes>"
      ]
     },
     "metadata": {
      "needs_background": "light"
     },
     "output_type": "display_data"
    }
   ],
   "source": [
    "plt.figure(figsize=(12, 6));\n",
    "plt.title('Modelo de regressão simples entre TOTS3 e IBOVESPA', fontsize=15);\n",
    "plt.text(0.08, 0.13, f'ŷ = {np.round(coef_linear, 3)} + {np.round(coef_angular, 3)} * X')\n",
    "plt.xlabel('X', fontsize=13);\n",
    "plt.ylabel('Y', fontsize=13);\n",
    "plt.scatter(x, Y, label='Dispersão dos dados');\n",
    "plt.plot(x, reta, label='Reta de regressão', color='r');\n",
    "plt.legend(loc=2, fontsize=12);"
   ]
  },
  {
   "cell_type": "markdown",
   "id": "4e07ce0d",
   "metadata": {},
   "source": [
    "Utilizando a biblioteca Sklearn"
   ]
  },
  {
   "cell_type": "code",
   "execution_count": 28,
   "id": "fe6e945a",
   "metadata": {},
   "outputs": [],
   "source": [
    "x = retorno_simples(dados)['^BVSP'].values\n",
    "y = retorno_simples(dados)['TOTS3.SA'].values"
   ]
  },
  {
   "cell_type": "markdown",
   "id": "4ff249b7",
   "metadata": {},
   "source": [
    "Mudando a o vetor x para um vetor 2D"
   ]
  },
  {
   "cell_type": "code",
   "execution_count": 29,
   "id": "63e35e6f",
   "metadata": {},
   "outputs": [],
   "source": [
    "X = x.reshape(-1, 1)"
   ]
  },
  {
   "cell_type": "markdown",
   "id": "6be07074",
   "metadata": {},
   "source": [
    "Ajustando o modelo"
   ]
  },
  {
   "cell_type": "code",
   "execution_count": 30,
   "id": "a0cb96f2",
   "metadata": {},
   "outputs": [
    {
     "data": {
      "text/plain": [
       "LinearRegression()"
      ]
     },
     "execution_count": 30,
     "metadata": {},
     "output_type": "execute_result"
    }
   ],
   "source": [
    "reg = LinearRegression()\n",
    "reg.fit(X, y)"
   ]
  },
  {
   "cell_type": "markdown",
   "id": "c80cebc2",
   "metadata": {},
   "source": [
    "Buscando o coef. linear"
   ]
  },
  {
   "cell_type": "code",
   "execution_count": 31,
   "id": "0d077512",
   "metadata": {},
   "outputs": [
    {
     "data": {
      "text/plain": [
       "0.0009046948983149272"
      ]
     },
     "execution_count": 31,
     "metadata": {},
     "output_type": "execute_result"
    }
   ],
   "source": [
    "reg.intercept_"
   ]
  },
  {
   "cell_type": "markdown",
   "id": "1dd451c3",
   "metadata": {},
   "source": [
    "Buscando o coef. angular"
   ]
  },
  {
   "cell_type": "code",
   "execution_count": 32,
   "id": "3425809a",
   "metadata": {},
   "outputs": [
    {
     "data": {
      "text/plain": [
       "array([0.93740336])"
      ]
     },
     "execution_count": 32,
     "metadata": {},
     "output_type": "execute_result"
    }
   ],
   "source": [
    "reg.coef_"
   ]
  },
  {
   "cell_type": "markdown",
   "id": "effe578c",
   "metadata": {},
   "source": [
    "Grau de ajustamento do modelo"
   ]
  },
  {
   "cell_type": "code",
   "execution_count": 34,
   "id": "11b1b49a",
   "metadata": {},
   "outputs": [
    {
     "data": {
      "text/plain": [
       "0.5016092501633601"
      ]
     },
     "execution_count": 34,
     "metadata": {},
     "output_type": "execute_result"
    }
   ],
   "source": [
    "reg.score(X, y)"
   ]
  },
  {
   "cell_type": "markdown",
   "id": "785d6291",
   "metadata": {},
   "source": [
    "Previsão do modelo: reta de regressão"
   ]
  },
  {
   "cell_type": "code",
   "execution_count": 35,
   "id": "65e769ff",
   "metadata": {},
   "outputs": [],
   "source": [
    "y_chapeu = reg.predict(X)"
   ]
  },
  {
   "cell_type": "markdown",
   "id": "b8ea15ec",
   "metadata": {},
   "source": [
    "Plotando o gráfico"
   ]
  },
  {
   "cell_type": "code",
   "execution_count": 39,
   "id": "a6d70b0c",
   "metadata": {},
   "outputs": [
    {
     "data": {
      "image/png": "[encoded data removed]",
      "text/plain": [
       "<Figure size 864x432 with 1 Axes>"
      ]
     },
     "metadata": {
      "needs_background": "light"
     },
     "output_type": "display_data"
    }
   ],
   "source": [
    "plt.figure(figsize=(12, 6));\n",
    "plt.title('Modelo de regressão simples entre TOTS3 e IBOVESPA', fontsize=15);\n",
    "plt.xlabel('X', fontsize=13);\n",
    "plt.ylabel('Y', fontsize=13);\n",
    "plt.plot(x, y_chapeu, label='Reta de regressão', color='r');\n",
    "plt.scatter(x, y, label='Dispersão dos valores', color='green');\n",
    "plt.legend(loc=2);\n"
   ]
  },
  {
   "cell_type": "code",
   "execution_count": 46,
   "id": "15df284e",
   "metadata": {},
   "outputs": [],
   "source": [
    "#sns.histplot((y - y_chapeu));"
   ]
  },
  {
   "cell_type": "markdown",
   "id": "37e642d9",
   "metadata": {},
   "source": [
    "## Método II: calculo do beta"
   ]
  },
  {
   "cell_type": "code",
   "execution_count": 22,
   "id": "3efc1b55",
   "metadata": {},
   "outputs": [
    {
     "data": {
      "text/html": [
       "<div>\n",
       "<style scoped>\n",
       "    .dataframe tbody tr th:only-of-type {\n",
       "        vertical-align: middle;\n",
       "    }\n",
       "\n",
       "    .dataframe tbody tr th {\n",
       "        vertical-align: top;\n",
       "    }\n",
       "\n",
       "    .dataframe thead th {\n",
       "        text-align: right;\n",
       "    }\n",
       "</style>\n",
       "<table border=\"1\" class=\"dataframe\">\n",
       "  <thead>\n",
       "    <tr style=\"text-align: right;\">\n",
       "      <th></th>\n",
       "      <th>TOTS3.SA</th>\n",
       "      <th>^BVSP</th>\n",
       "    </tr>\n",
       "  </thead>\n",
       "  <tbody>\n",
       "    <tr>\n",
       "      <th>TOTS3.SA</th>\n",
       "      <td>0.370860</td>\n",
       "      <td>0.198449</td>\n",
       "    </tr>\n",
       "    <tr>\n",
       "      <th>^BVSP</th>\n",
       "      <td>0.198449</td>\n",
       "      <td>0.211701</td>\n",
       "    </tr>\n",
       "  </tbody>\n",
       "</table>\n",
       "</div>"
      ],
      "text/plain": [
       "          TOTS3.SA     ^BVSP\n",
       "TOTS3.SA  0.370860  0.198449\n",
       "^BVSP     0.198449  0.211701"
      ]
     },
     "execution_count": 22,
     "metadata": {},
     "output_type": "execute_result"
    }
   ],
   "source": [
    "cov = retorno_simples(dados).cov() * 252\n",
    "cov"
   ]
  },
  {
   "cell_type": "code",
   "execution_count": 23,
   "id": "84bcc4b9",
   "metadata": {},
   "outputs": [
    {
     "data": {
      "text/plain": [
       "0.19844908329063493"
      ]
     },
     "execution_count": 23,
     "metadata": {},
     "output_type": "execute_result"
    }
   ],
   "source": [
    "tots_ibov = cov.iloc[0,1]\n",
    "tots_ibov"
   ]
  },
  {
   "cell_type": "code",
   "execution_count": 24,
   "id": "66a029cc",
   "metadata": {},
   "outputs": [
    {
     "data": {
      "text/plain": [
       "0.2117008450799167"
      ]
     },
     "execution_count": 24,
     "metadata": {},
     "output_type": "execute_result"
    }
   ],
   "source": [
    "var = retorno_simples(dados)['^BVSP'].var() * 252\n",
    "var"
   ]
  },
  {
   "cell_type": "code",
   "execution_count": 25,
   "id": "257b59e8",
   "metadata": {},
   "outputs": [],
   "source": [
    "beta = tots_ibov / var"
   ]
  },
  {
   "cell_type": "code",
   "execution_count": 26,
   "id": "c7da8a20",
   "metadata": {},
   "outputs": [
    {
     "name": "stdout",
     "output_type": "stream",
     "text": [
      "Beta: 0.94\n"
     ]
    }
   ],
   "source": [
    "print(f'Beta: {np.round(beta, 2)}')"
   ]
  },
  {
   "cell_type": "markdown",
   "id": "1031f2f8",
   "metadata": {},
   "source": [
    "SCRIP INCOMPLETO!"
   ]
  }
 ],
 "metadata": {
  "kernelspec": {
   "display_name": "Python 3",
   "language": "python",
   "name": "python3"
  },
  "language_info": {
   "codemirror_mode": {
    "name": "ipython",
    "version": 3
   },
   "file_extension": ".py",
   "mimetype": "text/x-python",
   "name": "python",
   "nbconvert_exporter": "python",
   "pygments_lexer": "ipython3",
   "version": "3.8.8"
  }
 },
 "nbformat": 4,
 "nbformat_minor": 5
}
