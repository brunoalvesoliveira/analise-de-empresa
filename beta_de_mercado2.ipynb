{
 "cells": [
  {
   "cell_type": "markdown",
   "metadata": {},
   "source": [
    "## Importanto as bibliotecas"
   ]
  },
  {
   "cell_type": "code",
   "execution_count": 1,
   "metadata": {},
   "outputs": [],
   "source": [
    "import pandas as pd\n",
    "import numpy as np\n",
    "import matplotlib.pyplot as plt\n",
    "from matplotlib import style\n",
    "import yfinance as yf"
   ]
  },
  {
   "cell_type": "code",
   "execution_count": 2,
   "metadata": {},
   "outputs": [],
   "source": [
    "style.use('seaborn-muted')"
   ]
  },
  {
   "cell_type": "markdown",
   "metadata": {},
   "source": [
    "## Buscando dados"
   ]
  },
  {
   "cell_type": "code",
   "execution_count": 3,
   "metadata": {},
   "outputs": [
    {
     "name": "stdout",
     "output_type": "stream",
     "text": [
      "[*********************100%***********************]  1 of 1 completed\n",
      "[*********************100%***********************]  1 of 1 completed\n",
      "[*********************100%***********************]  1 of 1 completed\n",
      "[*********************100%***********************]  1 of 1 completed\n",
      "[*********************100%***********************]  1 of 1 completed\n"
     ]
    },
    {
     "data": {
      "text/html": [
       "<div>\n",
       "<style scoped>\n",
       "    .dataframe tbody tr th:only-of-type {\n",
       "        vertical-align: middle;\n",
       "    }\n",
       "\n",
       "    .dataframe tbody tr th {\n",
       "        vertical-align: top;\n",
       "    }\n",
       "\n",
       "    .dataframe thead th {\n",
       "        text-align: right;\n",
       "    }\n",
       "</style>\n",
       "<table border=\"1\" class=\"dataframe\">\n",
       "  <thead>\n",
       "    <tr style=\"text-align: right;\">\n",
       "      <th></th>\n",
       "      <th>TOTS3.SA</th>\n",
       "      <th>POSI3.SA</th>\n",
       "      <th>SQIA3.SA</th>\n",
       "      <th>VLID3.SA</th>\n",
       "      <th>^BVSP</th>\n",
       "    </tr>\n",
       "    <tr>\n",
       "      <th>Date</th>\n",
       "      <th></th>\n",
       "      <th></th>\n",
       "      <th></th>\n",
       "      <th></th>\n",
       "      <th></th>\n",
       "    </tr>\n",
       "  </thead>\n",
       "  <tbody>\n",
       "    <tr>\n",
       "      <th>2016-01-04</th>\n",
       "      <td>9.460103</td>\n",
       "      <td>1.538804</td>\n",
       "      <td>2.188953</td>\n",
       "      <td>31.005209</td>\n",
       "      <td>42141.0</td>\n",
       "    </tr>\n",
       "    <tr>\n",
       "      <th>2016-01-05</th>\n",
       "      <td>9.413867</td>\n",
       "      <td>1.586593</td>\n",
       "      <td>2.169604</td>\n",
       "      <td>31.429403</td>\n",
       "      <td>42419.0</td>\n",
       "    </tr>\n",
       "    <tr>\n",
       "      <th>2016-01-06</th>\n",
       "      <td>9.648134</td>\n",
       "      <td>1.624824</td>\n",
       "      <td>2.176859</td>\n",
       "      <td>31.185881</td>\n",
       "      <td>41773.0</td>\n",
       "    </tr>\n",
       "    <tr>\n",
       "      <th>2016-01-07</th>\n",
       "      <td>9.395370</td>\n",
       "      <td>1.634382</td>\n",
       "      <td>2.140579</td>\n",
       "      <td>30.392492</td>\n",
       "      <td>40695.0</td>\n",
       "    </tr>\n",
       "    <tr>\n",
       "      <th>2016-01-08</th>\n",
       "      <td>9.416945</td>\n",
       "      <td>1.567477</td>\n",
       "      <td>2.152672</td>\n",
       "      <td>30.321789</td>\n",
       "      <td>40612.0</td>\n",
       "    </tr>\n",
       "  </tbody>\n",
       "</table>\n",
       "</div>"
      ],
      "text/plain": [
       "            TOTS3.SA  POSI3.SA  SQIA3.SA   VLID3.SA    ^BVSP\n",
       "Date                                                        \n",
       "2016-01-04  9.460103  1.538804  2.188953  31.005209  42141.0\n",
       "2016-01-05  9.413867  1.586593  2.169604  31.429403  42419.0\n",
       "2016-01-06  9.648134  1.624824  2.176859  31.185881  41773.0\n",
       "2016-01-07  9.395370  1.634382  2.140579  30.392492  40695.0\n",
       "2016-01-08  9.416945  1.567477  2.152672  30.321789  40612.0"
      ]
     },
     "execution_count": 3,
     "metadata": {},
     "output_type": "execute_result"
    }
   ],
   "source": [
    "tickers = ['TOTS3.SA', 'POSI3.SA', 'SQIA3.SA', 'VLID3.SA', '^BVSP']\n",
    "dados = pd.DataFrame()\n",
    "\n",
    "for ticker in tickers:\n",
    "    dados[ticker] = yf.download(ticker, start='2016-01-01')['Adj Close']\n",
    "\n",
    "dados.head()"
   ]
  },
  {
   "cell_type": "markdown",
   "metadata": {},
   "source": [
    "Eliminando dados faltantes"
   ]
  },
  {
   "cell_type": "code",
   "execution_count": 4,
   "metadata": {},
   "outputs": [
    {
     "data": {
      "text/plain": [
       "TOTS3.SA    0\n",
       "POSI3.SA    0\n",
       "SQIA3.SA    0\n",
       "VLID3.SA    0\n",
       "^BVSP       8\n",
       "dtype: int64"
      ]
     },
     "execution_count": 4,
     "metadata": {},
     "output_type": "execute_result"
    }
   ],
   "source": [
    "dados.isna().sum()"
   ]
  },
  {
   "cell_type": "code",
   "execution_count": 5,
   "metadata": {},
   "outputs": [],
   "source": [
    "dados.dropna(inplace=True)"
   ]
  },
  {
   "cell_type": "markdown",
   "metadata": {},
   "source": [
    "## Retorno simples"
   ]
  },
  {
   "cell_type": "code",
   "execution_count": 6,
   "metadata": {},
   "outputs": [
    {
     "data": {
      "text/html": [
       "<div>\n",
       "<style scoped>\n",
       "    .dataframe tbody tr th:only-of-type {\n",
       "        vertical-align: middle;\n",
       "    }\n",
       "\n",
       "    .dataframe tbody tr th {\n",
       "        vertical-align: top;\n",
       "    }\n",
       "\n",
       "    .dataframe thead th {\n",
       "        text-align: right;\n",
       "    }\n",
       "</style>\n",
       "<table border=\"1\" class=\"dataframe\">\n",
       "  <thead>\n",
       "    <tr style=\"text-align: right;\">\n",
       "      <th></th>\n",
       "      <th>TOTS3.SA</th>\n",
       "      <th>POSI3.SA</th>\n",
       "      <th>SQIA3.SA</th>\n",
       "      <th>VLID3.SA</th>\n",
       "      <th>^BVSP</th>\n",
       "    </tr>\n",
       "    <tr>\n",
       "      <th>Date</th>\n",
       "      <th></th>\n",
       "      <th></th>\n",
       "      <th></th>\n",
       "      <th></th>\n",
       "      <th></th>\n",
       "    </tr>\n",
       "  </thead>\n",
       "  <tbody>\n",
       "    <tr>\n",
       "      <th>2016-01-05</th>\n",
       "      <td>-0.004899</td>\n",
       "      <td>0.030583</td>\n",
       "      <td>-0.008879</td>\n",
       "      <td>0.013589</td>\n",
       "      <td>0.006575</td>\n",
       "    </tr>\n",
       "    <tr>\n",
       "      <th>2016-01-06</th>\n",
       "      <td>0.024581</td>\n",
       "      <td>0.023811</td>\n",
       "      <td>0.003339</td>\n",
       "      <td>-0.007778</td>\n",
       "      <td>-0.015346</td>\n",
       "    </tr>\n",
       "    <tr>\n",
       "      <th>2016-01-07</th>\n",
       "      <td>-0.026547</td>\n",
       "      <td>0.005865</td>\n",
       "      <td>-0.016807</td>\n",
       "      <td>-0.025770</td>\n",
       "      <td>-0.026145</td>\n",
       "    </tr>\n",
       "    <tr>\n",
       "      <th>2016-01-08</th>\n",
       "      <td>0.002294</td>\n",
       "      <td>-0.041797</td>\n",
       "      <td>0.005634</td>\n",
       "      <td>-0.002329</td>\n",
       "      <td>-0.002042</td>\n",
       "    </tr>\n",
       "    <tr>\n",
       "      <th>2016-01-11</th>\n",
       "      <td>-0.060031</td>\n",
       "      <td>0.012121</td>\n",
       "      <td>-0.014714</td>\n",
       "      <td>-0.077821</td>\n",
       "      <td>-0.016435</td>\n",
       "    </tr>\n",
       "  </tbody>\n",
       "</table>\n",
       "</div>"
      ],
      "text/plain": [
       "            TOTS3.SA  POSI3.SA  SQIA3.SA  VLID3.SA     ^BVSP\n",
       "Date                                                        \n",
       "2016-01-05 -0.004899  0.030583 -0.008879  0.013589  0.006575\n",
       "2016-01-06  0.024581  0.023811  0.003339 -0.007778 -0.015346\n",
       "2016-01-07 -0.026547  0.005865 -0.016807 -0.025770 -0.026145\n",
       "2016-01-08  0.002294 -0.041797  0.005634 -0.002329 -0.002042\n",
       "2016-01-11 -0.060031  0.012121 -0.014714 -0.077821 -0.016435"
      ]
     },
     "execution_count": 6,
     "metadata": {},
     "output_type": "execute_result"
    }
   ],
   "source": [
    "retorno_simples = np.log(dados / dados.shift())\n",
    "retorno_simples.dropna(inplace=True)\n",
    "retorno_simples.head()"
   ]
  },
  {
   "cell_type": "markdown",
   "metadata": {},
   "source": [
    "## Calculando a média dos betas do setor"
   ]
  },
  {
   "cell_type": "markdown",
   "metadata": {},
   "source": [
    "Matriz de variância e covariância"
   ]
  },
  {
   "cell_type": "code",
   "execution_count": 7,
   "metadata": {},
   "outputs": [
    {
     "data": {
      "text/html": [
       "<div>\n",
       "<style scoped>\n",
       "    .dataframe tbody tr th:only-of-type {\n",
       "        vertical-align: middle;\n",
       "    }\n",
       "\n",
       "    .dataframe tbody tr th {\n",
       "        vertical-align: top;\n",
       "    }\n",
       "\n",
       "    .dataframe thead th {\n",
       "        text-align: right;\n",
       "    }\n",
       "</style>\n",
       "<table border=\"1\" class=\"dataframe\">\n",
       "  <thead>\n",
       "    <tr style=\"text-align: right;\">\n",
       "      <th></th>\n",
       "      <th>TOTS3.SA</th>\n",
       "      <th>POSI3.SA</th>\n",
       "      <th>SQIA3.SA</th>\n",
       "      <th>VLID3.SA</th>\n",
       "      <th>^BVSP</th>\n",
       "    </tr>\n",
       "  </thead>\n",
       "  <tbody>\n",
       "    <tr>\n",
       "      <th>TOTS3.SA</th>\n",
       "      <td>0.151541</td>\n",
       "      <td>0.069942</td>\n",
       "      <td>0.070031</td>\n",
       "      <td>0.059037</td>\n",
       "      <td>0.053930</td>\n",
       "    </tr>\n",
       "    <tr>\n",
       "      <th>POSI3.SA</th>\n",
       "      <td>0.069942</td>\n",
       "      <td>0.444745</td>\n",
       "      <td>0.101584</td>\n",
       "      <td>0.095308</td>\n",
       "      <td>0.080233</td>\n",
       "    </tr>\n",
       "    <tr>\n",
       "      <th>SQIA3.SA</th>\n",
       "      <td>0.070031</td>\n",
       "      <td>0.101584</td>\n",
       "      <td>0.226471</td>\n",
       "      <td>0.087201</td>\n",
       "      <td>0.053316</td>\n",
       "    </tr>\n",
       "    <tr>\n",
       "      <th>VLID3.SA</th>\n",
       "      <td>0.059037</td>\n",
       "      <td>0.095308</td>\n",
       "      <td>0.087201</td>\n",
       "      <td>0.234919</td>\n",
       "      <td>0.064092</td>\n",
       "    </tr>\n",
       "    <tr>\n",
       "      <th>^BVSP</th>\n",
       "      <td>0.053930</td>\n",
       "      <td>0.080233</td>\n",
       "      <td>0.053316</td>\n",
       "      <td>0.064092</td>\n",
       "      <td>0.075004</td>\n",
       "    </tr>\n",
       "  </tbody>\n",
       "</table>\n",
       "</div>"
      ],
      "text/plain": [
       "          TOTS3.SA  POSI3.SA  SQIA3.SA  VLID3.SA     ^BVSP\n",
       "TOTS3.SA  0.151541  0.069942  0.070031  0.059037  0.053930\n",
       "POSI3.SA  0.069942  0.444745  0.101584  0.095308  0.080233\n",
       "SQIA3.SA  0.070031  0.101584  0.226471  0.087201  0.053316\n",
       "VLID3.SA  0.059037  0.095308  0.087201  0.234919  0.064092\n",
       "^BVSP     0.053930  0.080233  0.053316  0.064092  0.075004"
      ]
     },
     "execution_count": 7,
     "metadata": {},
     "output_type": "execute_result"
    }
   ],
   "source": [
    "cov = retorno_simples.cov() * 252\n",
    "cov"
   ]
  },
  {
   "cell_type": "markdown",
   "metadata": {},
   "source": [
    "Variância do mercado"
   ]
  },
  {
   "cell_type": "code",
   "execution_count": 8,
   "metadata": {},
   "outputs": [
    {
     "data": {
      "text/plain": [
       "0.07500371630243255"
      ]
     },
     "execution_count": 8,
     "metadata": {},
     "output_type": "execute_result"
    }
   ],
   "source": [
    "var_ibov = retorno_simples['^BVSP'].var() * 252\n",
    "var_ibov"
   ]
  },
  {
   "cell_type": "markdown",
   "metadata": {},
   "source": [
    "Betas individuais"
   ]
  },
  {
   "cell_type": "code",
   "execution_count": 9,
   "metadata": {},
   "outputs": [
    {
     "name": "stdout",
     "output_type": "stream",
     "text": [
      "TOTS3.SA    0.719033\n",
      "POSI3.SA    1.069715\n",
      "SQIA3.SA    0.710840\n",
      "VLID3.SA    0.854523\n",
      "Name: ^BVSP, dtype: float64\n"
     ]
    }
   ],
   "source": [
    "for i in range(0, 5):\n",
    "    cov_individual = cov['^BVSP'][0:i]\n",
    "    betas = (cov_individual / var_ibov)\n",
    "\n",
    "print(betas)"
   ]
  },
  {
   "cell_type": "code",
   "execution_count": 10,
   "metadata": {},
   "outputs": [
    {
     "name": "stdout",
     "output_type": "stream",
     "text": [
      "<class 'pandas.core.series.Series'>\n"
     ]
    }
   ],
   "source": [
    "print(type(betas))"
   ]
  },
  {
   "cell_type": "markdown",
   "metadata": {},
   "source": [
    "Média dos betas do setor"
   ]
  },
  {
   "cell_type": "code",
   "execution_count": 11,
   "metadata": {},
   "outputs": [
    {
     "data": {
      "text/plain": [
       "0.8385276143822636"
      ]
     },
     "execution_count": 11,
     "metadata": {},
     "output_type": "execute_result"
    }
   ],
   "source": [
    "media_betas = betas.mean()\n",
    "media_betas"
   ]
  },
  {
   "cell_type": "code",
   "execution_count": 12,
   "metadata": {},
   "outputs": [
    {
     "data": {
      "text/plain": [
       "TOTS3.SA          0.719033\n",
       "POSI3.SA          1.069715\n",
       "SQIA3.SA          0.710840\n",
       "VLID3.SA          0.854523\n",
       "MÉDIA DO SETOR    0.838528\n",
       "Name: ^BVSP, dtype: float64"
      ]
     },
     "execution_count": 12,
     "metadata": {},
     "output_type": "execute_result"
    }
   ],
   "source": [
    "betas['MÉDIA DO SETOR'] = media_betas\n",
    "betas"
   ]
  },
  {
   "cell_type": "markdown",
   "metadata": {},
   "source": [
    "## Plotando o gráfico"
   ]
  },
  {
   "cell_type": "code",
   "execution_count": 13,
   "metadata": {},
   "outputs": [
    {
     "data": {
      "text/plain": [
       "array([0.2, 0.4, 0.6, 0.8])"
      ]
     },
     "execution_count": 13,
     "metadata": {},
     "output_type": "execute_result"
    }
   ],
   "source": [
    "y = np.arange(0.2, 1.0, 0.2)\n",
    "y"
   ]
  },
  {
   "cell_type": "code",
   "execution_count": 14,
   "metadata": {},
   "outputs": [
    {
     "data": {
      "image/png": "[encoded data removed]",
      "text/plain": [
       "<Figure size 864x432 with 1 Axes>"
      ]
     },
     "metadata": {
      "needs_background": "light"
     },
     "output_type": "display_data"
    }
   ],
   "source": [
    "plt.figure(figsize=(12, 6));\n",
    "plt.scatter(betas.index, betas, label='Betas', color='blue')\n",
    "#plt.scatter(betas.index, media_betas)\n",
    "plt.text(betas.index[3], 0.75, 'By: Invest Jr. - Yahoo Finance');\n",
    "plt.title('Betas: setor de tecnologia', fontsize=15);\n",
    "plt.xlabel('Empresas', fontsize=13);\n",
    "plt.ylabel('Betas', fontsize=13);\n",
    "plt.legend(loc=2);"
   ]
  },
  {
   "cell_type": "markdown",
   "metadata": {},
   "source": [
    "SCRIP INCOMPLETO!"
   ]
  }
 ],
 "metadata": {
  "interpreter": {
   "hash": "12e4b1be95463e3d9cbf2cc80442cdf323c688f536a1ec0253fd3538014d9c8e"
  },
  "kernelspec": {
   "display_name": "Python 3",
   "language": "python",
   "name": "python3"
  },
  "language_info": {
   "codemirror_mode": {
    "name": "ipython",
    "version": 3
   },
   "file_extension": ".py",
   "mimetype": "text/x-python",
   "name": "python",
   "nbconvert_exporter": "python",
   "pygments_lexer": "ipython3",
   "version": "3.8.8"
  }
 },
 "nbformat": 4,
 "nbformat_minor": 2
}
