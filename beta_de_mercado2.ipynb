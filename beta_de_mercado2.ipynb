{
 "cells": [
  {
   "cell_type": "markdown",
   "metadata": {},
   "source": [
    "## Importanto as bibliotecas"
   ]
  },
  {
   "cell_type": "code",
   "execution_count": 87,
   "metadata": {},
   "outputs": [],
   "source": [
    "import pandas as pd\n",
    "import numpy as np\n",
    "import matplotlib.pyplot as plt\n",
    "from matplotlib import style\n",
    "import yfinance as yf"
   ]
  },
  {
   "cell_type": "code",
   "execution_count": 88,
   "metadata": {},
   "outputs": [],
   "source": [
    "style.use('seaborn-muted')"
   ]
  },
  {
   "cell_type": "markdown",
   "metadata": {},
   "source": [
    "## Buscando dados"
   ]
  },
  {
   "cell_type": "code",
   "execution_count": 89,
   "metadata": {},
   "outputs": [
    {
     "name": "stdout",
     "output_type": "stream",
     "text": [
      "[*********************100%***********************]  1 of 1 completed\n",
      "[*********************100%***********************]  1 of 1 completed\n",
      "[*********************100%***********************]  1 of 1 completed\n",
      "[*********************100%***********************]  1 of 1 completed\n",
      "[*********************100%***********************]  1 of 1 completed\n"
     ]
    },
    {
     "data": {
      "text/html": [
       "<div>\n",
       "<style scoped>\n",
       "    .dataframe tbody tr th:only-of-type {\n",
       "        vertical-align: middle;\n",
       "    }\n",
       "\n",
       "    .dataframe tbody tr th {\n",
       "        vertical-align: top;\n",
       "    }\n",
       "\n",
       "    .dataframe thead th {\n",
       "        text-align: right;\n",
       "    }\n",
       "</style>\n",
       "<table border=\"1\" class=\"dataframe\">\n",
       "  <thead>\n",
       "    <tr style=\"text-align: right;\">\n",
       "      <th></th>\n",
       "      <th>TOTS3.SA</th>\n",
       "      <th>POSI3.SA</th>\n",
       "      <th>SQIA3.SA</th>\n",
       "      <th>VLID3.SA</th>\n",
       "      <th>^BVSP</th>\n",
       "    </tr>\n",
       "    <tr>\n",
       "      <th>Date</th>\n",
       "      <th></th>\n",
       "      <th></th>\n",
       "      <th></th>\n",
       "      <th></th>\n",
       "      <th></th>\n",
       "    </tr>\n",
       "  </thead>\n",
       "  <tbody>\n",
       "    <tr>\n",
       "      <th>2016-01-04</th>\n",
       "      <td>9.460103</td>\n",
       "      <td>1.538804</td>\n",
       "      <td>2.188953</td>\n",
       "      <td>31.005211</td>\n",
       "      <td>42141.0</td>\n",
       "    </tr>\n",
       "    <tr>\n",
       "      <th>2016-01-05</th>\n",
       "      <td>9.413865</td>\n",
       "      <td>1.586592</td>\n",
       "      <td>2.169603</td>\n",
       "      <td>31.429401</td>\n",
       "      <td>42419.0</td>\n",
       "    </tr>\n",
       "    <tr>\n",
       "      <th>2016-01-06</th>\n",
       "      <td>9.648132</td>\n",
       "      <td>1.624824</td>\n",
       "      <td>2.176859</td>\n",
       "      <td>31.185888</td>\n",
       "      <td>41773.0</td>\n",
       "    </tr>\n",
       "    <tr>\n",
       "      <th>2016-01-07</th>\n",
       "      <td>9.395370</td>\n",
       "      <td>1.634381</td>\n",
       "      <td>2.140579</td>\n",
       "      <td>30.392487</td>\n",
       "      <td>40695.0</td>\n",
       "    </tr>\n",
       "    <tr>\n",
       "      <th>2016-01-08</th>\n",
       "      <td>9.416949</td>\n",
       "      <td>1.567477</td>\n",
       "      <td>2.152672</td>\n",
       "      <td>30.321795</td>\n",
       "      <td>40612.0</td>\n",
       "    </tr>\n",
       "  </tbody>\n",
       "</table>\n",
       "</div>"
      ],
      "text/plain": [
       "            TOTS3.SA  POSI3.SA  SQIA3.SA   VLID3.SA    ^BVSP\n",
       "Date                                                        \n",
       "2016-01-04  9.460103  1.538804  2.188953  31.005211  42141.0\n",
       "2016-01-05  9.413865  1.586592  2.169603  31.429401  42419.0\n",
       "2016-01-06  9.648132  1.624824  2.176859  31.185888  41773.0\n",
       "2016-01-07  9.395370  1.634381  2.140579  30.392487  40695.0\n",
       "2016-01-08  9.416949  1.567477  2.152672  30.321795  40612.0"
      ]
     },
     "execution_count": 89,
     "metadata": {},
     "output_type": "execute_result"
    }
   ],
   "source": [
    "tickers = ['TOTS3.SA', 'POSI3.SA', 'SQIA3.SA', 'VLID3.SA', '^BVSP']\n",
    "dados = pd.DataFrame()\n",
    "\n",
    "for ticker in tickers:\n",
    "    dados[ticker] = yf.download(ticker, start='2016-01-01')['Adj Close']\n",
    "\n",
    "dados.head()"
   ]
  },
  {
   "cell_type": "markdown",
   "metadata": {},
   "source": [
    "Eliminando dados faltantes"
   ]
  },
  {
   "cell_type": "code",
   "execution_count": 90,
   "metadata": {},
   "outputs": [
    {
     "data": {
      "text/plain": [
       "TOTS3.SA    0\n",
       "POSI3.SA    0\n",
       "SQIA3.SA    0\n",
       "VLID3.SA    0\n",
       "^BVSP       8\n",
       "dtype: int64"
      ]
     },
     "execution_count": 90,
     "metadata": {},
     "output_type": "execute_result"
    }
   ],
   "source": [
    "dados.isna().sum()"
   ]
  },
  {
   "cell_type": "code",
   "execution_count": 91,
   "metadata": {},
   "outputs": [],
   "source": [
    "dados.dropna(inplace=True)"
   ]
  },
  {
   "cell_type": "markdown",
   "metadata": {},
   "source": [
    "## Retorno simples"
   ]
  },
  {
   "cell_type": "code",
   "execution_count": 92,
   "metadata": {},
   "outputs": [
    {
     "data": {
      "text/html": [
       "<div>\n",
       "<style scoped>\n",
       "    .dataframe tbody tr th:only-of-type {\n",
       "        vertical-align: middle;\n",
       "    }\n",
       "\n",
       "    .dataframe tbody tr th {\n",
       "        vertical-align: top;\n",
       "    }\n",
       "\n",
       "    .dataframe thead th {\n",
       "        text-align: right;\n",
       "    }\n",
       "</style>\n",
       "<table border=\"1\" class=\"dataframe\">\n",
       "  <thead>\n",
       "    <tr style=\"text-align: right;\">\n",
       "      <th></th>\n",
       "      <th>TOTS3.SA</th>\n",
       "      <th>POSI3.SA</th>\n",
       "      <th>SQIA3.SA</th>\n",
       "      <th>VLID3.SA</th>\n",
       "      <th>^BVSP</th>\n",
       "    </tr>\n",
       "    <tr>\n",
       "      <th>Date</th>\n",
       "      <th></th>\n",
       "      <th></th>\n",
       "      <th></th>\n",
       "      <th></th>\n",
       "      <th></th>\n",
       "    </tr>\n",
       "  </thead>\n",
       "  <tbody>\n",
       "    <tr>\n",
       "      <th>2016-01-05</th>\n",
       "      <td>-0.004900</td>\n",
       "      <td>0.030583</td>\n",
       "      <td>-0.008879</td>\n",
       "      <td>0.013589</td>\n",
       "      <td>0.006575</td>\n",
       "    </tr>\n",
       "    <tr>\n",
       "      <th>2016-01-06</th>\n",
       "      <td>0.024581</td>\n",
       "      <td>0.023811</td>\n",
       "      <td>0.003339</td>\n",
       "      <td>-0.007778</td>\n",
       "      <td>-0.015346</td>\n",
       "    </tr>\n",
       "    <tr>\n",
       "      <th>2016-01-07</th>\n",
       "      <td>-0.026547</td>\n",
       "      <td>0.005865</td>\n",
       "      <td>-0.016807</td>\n",
       "      <td>-0.025770</td>\n",
       "      <td>-0.026145</td>\n",
       "    </tr>\n",
       "    <tr>\n",
       "      <th>2016-01-08</th>\n",
       "      <td>0.002294</td>\n",
       "      <td>-0.041797</td>\n",
       "      <td>0.005634</td>\n",
       "      <td>-0.002329</td>\n",
       "      <td>-0.002042</td>\n",
       "    </tr>\n",
       "    <tr>\n",
       "      <th>2016-01-11</th>\n",
       "      <td>-0.060032</td>\n",
       "      <td>0.012121</td>\n",
       "      <td>-0.014715</td>\n",
       "      <td>-0.077822</td>\n",
       "      <td>-0.016435</td>\n",
       "    </tr>\n",
       "  </tbody>\n",
       "</table>\n",
       "</div>"
      ],
      "text/plain": [
       "            TOTS3.SA  POSI3.SA  SQIA3.SA  VLID3.SA     ^BVSP\n",
       "Date                                                        \n",
       "2016-01-05 -0.004900  0.030583 -0.008879  0.013589  0.006575\n",
       "2016-01-06  0.024581  0.023811  0.003339 -0.007778 -0.015346\n",
       "2016-01-07 -0.026547  0.005865 -0.016807 -0.025770 -0.026145\n",
       "2016-01-08  0.002294 -0.041797  0.005634 -0.002329 -0.002042\n",
       "2016-01-11 -0.060032  0.012121 -0.014715 -0.077822 -0.016435"
      ]
     },
     "execution_count": 92,
     "metadata": {},
     "output_type": "execute_result"
    }
   ],
   "source": [
    "retorno_simples = np.log(dados / dados.shift())\n",
    "retorno_simples.dropna(inplace=True)\n",
    "retorno_simples.head()"
   ]
  },
  {
   "cell_type": "markdown",
   "metadata": {},
   "source": [
    "## Calculando a média dos betas do setor"
   ]
  },
  {
   "cell_type": "markdown",
   "metadata": {},
   "source": [
    "Matriz de variância e covariância"
   ]
  },
  {
   "cell_type": "code",
   "execution_count": 93,
   "metadata": {},
   "outputs": [
    {
     "data": {
      "text/html": [
       "<div>\n",
       "<style scoped>\n",
       "    .dataframe tbody tr th:only-of-type {\n",
       "        vertical-align: middle;\n",
       "    }\n",
       "\n",
       "    .dataframe tbody tr th {\n",
       "        vertical-align: top;\n",
       "    }\n",
       "\n",
       "    .dataframe thead th {\n",
       "        text-align: right;\n",
       "    }\n",
       "</style>\n",
       "<table border=\"1\" class=\"dataframe\">\n",
       "  <thead>\n",
       "    <tr style=\"text-align: right;\">\n",
       "      <th></th>\n",
       "      <th>TOTS3.SA</th>\n",
       "      <th>POSI3.SA</th>\n",
       "      <th>SQIA3.SA</th>\n",
       "      <th>VLID3.SA</th>\n",
       "      <th>^BVSP</th>\n",
       "    </tr>\n",
       "  </thead>\n",
       "  <tbody>\n",
       "    <tr>\n",
       "      <th>TOTS3.SA</th>\n",
       "      <td>0.151098</td>\n",
       "      <td>0.068865</td>\n",
       "      <td>0.069650</td>\n",
       "      <td>0.058473</td>\n",
       "      <td>0.053881</td>\n",
       "    </tr>\n",
       "    <tr>\n",
       "      <th>POSI3.SA</th>\n",
       "      <td>0.068865</td>\n",
       "      <td>0.441426</td>\n",
       "      <td>0.100290</td>\n",
       "      <td>0.096443</td>\n",
       "      <td>0.079725</td>\n",
       "    </tr>\n",
       "    <tr>\n",
       "      <th>SQIA3.SA</th>\n",
       "      <td>0.069650</td>\n",
       "      <td>0.100290</td>\n",
       "      <td>0.224440</td>\n",
       "      <td>0.086798</td>\n",
       "      <td>0.053165</td>\n",
       "    </tr>\n",
       "    <tr>\n",
       "      <th>VLID3.SA</th>\n",
       "      <td>0.058473</td>\n",
       "      <td>0.096443</td>\n",
       "      <td>0.086798</td>\n",
       "      <td>0.232597</td>\n",
       "      <td>0.064002</td>\n",
       "    </tr>\n",
       "    <tr>\n",
       "      <th>^BVSP</th>\n",
       "      <td>0.053881</td>\n",
       "      <td>0.079725</td>\n",
       "      <td>0.053165</td>\n",
       "      <td>0.064002</td>\n",
       "      <td>0.074826</td>\n",
       "    </tr>\n",
       "  </tbody>\n",
       "</table>\n",
       "</div>"
      ],
      "text/plain": [
       "          TOTS3.SA  POSI3.SA  SQIA3.SA  VLID3.SA     ^BVSP\n",
       "TOTS3.SA  0.151098  0.068865  0.069650  0.058473  0.053881\n",
       "POSI3.SA  0.068865  0.441426  0.100290  0.096443  0.079725\n",
       "SQIA3.SA  0.069650  0.100290  0.224440  0.086798  0.053165\n",
       "VLID3.SA  0.058473  0.096443  0.086798  0.232597  0.064002\n",
       "^BVSP     0.053881  0.079725  0.053165  0.064002  0.074826"
      ]
     },
     "execution_count": 93,
     "metadata": {},
     "output_type": "execute_result"
    }
   ],
   "source": [
    "cov = retorno_simples.cov() * 252\n",
    "cov"
   ]
  },
  {
   "cell_type": "markdown",
   "metadata": {},
   "source": [
    "Variância do mercado"
   ]
  },
  {
   "cell_type": "code",
   "execution_count": 94,
   "metadata": {},
   "outputs": [
    {
     "data": {
      "text/plain": [
       "0.07482644330038414"
      ]
     },
     "execution_count": 94,
     "metadata": {},
     "output_type": "execute_result"
    }
   ],
   "source": [
    "var_ibov = retorno_simples['^BVSP'].var() * 252\n",
    "var_ibov"
   ]
  },
  {
   "cell_type": "markdown",
   "metadata": {},
   "source": [
    "Betas individuais"
   ]
  },
  {
   "cell_type": "code",
   "execution_count": 97,
   "metadata": {},
   "outputs": [
    {
     "name": "stdout",
     "output_type": "stream",
     "text": [
      "TOTS3.SA    0.720081\n",
      "POSI3.SA    1.065468\n",
      "SQIA3.SA    0.710511\n",
      "VLID3.SA    0.855336\n",
      "Name: ^BVSP, dtype: float64\n"
     ]
    }
   ],
   "source": [
    "for i in range(0, 5):\n",
    "    cov_individual = cov['^BVSP'][0:i]\n",
    "    betas = (cov_individual / var_ibov)\n",
    "\n",
    "print(betas)"
   ]
  },
  {
   "cell_type": "code",
   "execution_count": 98,
   "metadata": {},
   "outputs": [
    {
     "name": "stdout",
     "output_type": "stream",
     "text": [
      "<class 'pandas.core.series.Series'>\n"
     ]
    }
   ],
   "source": [
    "print(type(betas))"
   ]
  },
  {
   "cell_type": "markdown",
   "metadata": {},
   "source": [
    "Média dos betas do setor"
   ]
  },
  {
   "cell_type": "code",
   "execution_count": 99,
   "metadata": {},
   "outputs": [
    {
     "data": {
      "text/plain": [
       "0.8378491207208294"
      ]
     },
     "execution_count": 99,
     "metadata": {},
     "output_type": "execute_result"
    }
   ],
   "source": [
    "media_betas = betas.mean()\n",
    "media_betas"
   ]
  },
  {
   "cell_type": "code",
   "execution_count": 100,
   "metadata": {},
   "outputs": [
    {
     "data": {
      "text/plain": [
       "TOTS3.SA          0.720081\n",
       "POSI3.SA          1.065468\n",
       "SQIA3.SA          0.710511\n",
       "VLID3.SA          0.855336\n",
       "MÉDIA DO SETOR    0.837849\n",
       "Name: ^BVSP, dtype: float64"
      ]
     },
     "execution_count": 100,
     "metadata": {},
     "output_type": "execute_result"
    }
   ],
   "source": [
    "betas['MÉDIA DO SETOR'] = media_betas\n",
    "betas"
   ]
  },
  {
   "cell_type": "markdown",
   "metadata": {},
   "source": [
    "## Plotando o gráfico"
   ]
  },
  {
   "cell_type": "code",
   "execution_count": 101,
   "metadata": {},
   "outputs": [
    {
     "data": {
      "text/plain": [
       "array([0.2, 0.4, 0.6, 0.8])"
      ]
     },
     "execution_count": 101,
     "metadata": {},
     "output_type": "execute_result"
    }
   ],
   "source": [
    "y = np.arange(0.2, 1.0, 0.2)\n",
    "y"
   ]
  },
  {
   "cell_type": "code",
   "execution_count": 114,
   "metadata": {},
   "outputs": [
    {
     "data": {
      "image/png": "[encoded data removed]",
      "text/plain": [
       "<Figure size 864x432 with 1 Axes>"
      ]
     },
     "metadata": {
      "needs_background": "light"
     },
     "output_type": "display_data"
    }
   ],
   "source": [
    "plt.figure(figsize=(12, 6));\n",
    "plt.scatter(betas.index, betas, label='Betas', color='blue')\n",
    "#plt.scatter(betas.index, media_betas)\n",
    "plt.text(betas.index[3], 0.75, 'By: Invest Jr. - Yahoo Finance');\n",
    "plt.title('Betas: setor de tecnologia', fontsize=15);\n",
    "plt.xlabel('Empresa', fontsize=13);\n",
    "plt.ylabel('Betas', fontsize=13);\n",
    "plt.legend(loc=2);"
   ]
  },
  {
   "cell_type": "markdown",
   "metadata": {},
   "source": [
    "SCRIP INCOMPLETO!"
   ]
  }
 ],
 "metadata": {
  "interpreter": {
   "hash": "12e4b1be95463e3d9cbf2cc80442cdf323c688f536a1ec0253fd3538014d9c8e"
  },
  "kernelspec": {
   "display_name": "Python 3.8.8 64-bit ('base': conda)",
   "language": "python",
   "name": "python3"
  },
  "language_info": {
   "codemirror_mode": {
    "name": "ipython",
    "version": 3
   },
   "file_extension": ".py",
   "mimetype": "text/x-python",
   "name": "python",
   "nbconvert_exporter": "python",
   "pygments_lexer": "ipython3",
   "version": "3.8.8"
  },
  "orig_nbformat": 4
 },
 "nbformat": 4,
 "nbformat_minor": 2
}
