{
  "nbformat": 4,
  "nbformat_minor": 0,
  "metadata": {
    "colab": {
      "name": "carteira_invest3.ipynb",
      "provenance": [],
      "authorship_tag": "ABX9TyM5pn8VF/aM829r3h+6zRyO",
      "include_colab_link": true
    },
    "kernelspec": {
      "name": "python3",
      "display_name": "Python 3"
    },
    "language_info": {
      "name": "python"
    }
  },
  "cells": [
    {
      "cell_type": "markdown",
      "metadata": {
        "id": "view-in-github",
        "colab_type": "text"
      },
      "source": [
        "<a href=\"https://colab.research.google.com/github/brunoalvoliv/analise-de-empresa/blob/main/carteira_invest3.ipynb\" target=\"_parent\"><img src=\"https://colab.research.google.com/assets/colab-badge.svg\" alt=\"Open In Colab\"/></a>"
      ]
    },
    {
      "cell_type": "markdown",
      "source": [
        "##Bibliotecas"
      ],
      "metadata": {
        "id": "-_N1qNHecAkY"
      }
    },
    {
      "cell_type": "code",
      "source": [
        "!pip install yfinance"
      ],
      "metadata": {
        "colab": {
          "base_uri": "https://localhost:8080/"
        },
        "id": "SWixDC_Yc26t",
        "outputId": "c0018a61-651c-453b-ef3a-5b60d33961a6"
      },
      "execution_count": 1,
      "outputs": [
        {
          "output_type": "stream",
          "name": "stdout",
          "text": [
            "Collecting yfinance\n",
            "  Downloading yfinance-0.1.67-py2.py3-none-any.whl (25 kB)\n",
            "Requirement already satisfied: pandas>=0.24 in /usr/local/lib/python3.7/dist-packages (from yfinance) (1.1.5)\n",
            "Requirement already satisfied: requests>=2.20 in /usr/local/lib/python3.7/dist-packages (from yfinance) (2.23.0)\n",
            "Collecting lxml>=4.5.1\n",
            "  Downloading lxml-4.7.1-cp37-cp37m-manylinux_2_17_x86_64.manylinux2014_x86_64.manylinux_2_24_x86_64.whl (6.4 MB)\n",
            "\u001b[K     |████████████████████████████████| 6.4 MB 14.7 MB/s \n",
            "\u001b[?25hRequirement already satisfied: numpy>=1.15 in /usr/local/lib/python3.7/dist-packages (from yfinance) (1.19.5)\n",
            "Requirement already satisfied: multitasking>=0.0.7 in /usr/local/lib/python3.7/dist-packages (from yfinance) (0.0.10)\n",
            "Requirement already satisfied: pytz>=2017.2 in /usr/local/lib/python3.7/dist-packages (from pandas>=0.24->yfinance) (2018.9)\n",
            "Requirement already satisfied: python-dateutil>=2.7.3 in /usr/local/lib/python3.7/dist-packages (from pandas>=0.24->yfinance) (2.8.2)\n",
            "Requirement already satisfied: six>=1.5 in /usr/local/lib/python3.7/dist-packages (from python-dateutil>=2.7.3->pandas>=0.24->yfinance) (1.15.0)\n",
            "Requirement already satisfied: certifi>=2017.4.17 in /usr/local/lib/python3.7/dist-packages (from requests>=2.20->yfinance) (2021.10.8)\n",
            "Requirement already satisfied: urllib3!=1.25.0,!=1.25.1,<1.26,>=1.21.1 in /usr/local/lib/python3.7/dist-packages (from requests>=2.20->yfinance) (1.24.3)\n",
            "Requirement already satisfied: idna<3,>=2.5 in /usr/local/lib/python3.7/dist-packages (from requests>=2.20->yfinance) (2.10)\n",
            "Requirement already satisfied: chardet<4,>=3.0.2 in /usr/local/lib/python3.7/dist-packages (from requests>=2.20->yfinance) (3.0.4)\n",
            "Installing collected packages: lxml, yfinance\n",
            "  Attempting uninstall: lxml\n",
            "    Found existing installation: lxml 4.2.6\n",
            "    Uninstalling lxml-4.2.6:\n",
            "      Successfully uninstalled lxml-4.2.6\n",
            "Successfully installed lxml-4.7.1 yfinance-0.1.67\n"
          ]
        }
      ]
    },
    {
      "cell_type": "code",
      "execution_count": 2,
      "metadata": {
        "id": "bDE7cvQub414"
      },
      "outputs": [],
      "source": [
        "import pandas as pd\n",
        "import numpy as np\n",
        "import matplotlib.pyplot as plt\n",
        "import yfinance as yf"
      ]
    },
    {
      "cell_type": "code",
      "source": [
        "plt.style.use('ggplot')"
      ],
      "metadata": {
        "id": "pPHMPpfwc73i"
      },
      "execution_count": 3,
      "outputs": []
    },
    {
      "cell_type": "markdown",
      "source": [
        "##Retorno do ibovespa versus carteira"
      ],
      "metadata": {
        "id": "CkTxXImZcUx1"
      }
    },
    {
      "cell_type": "code",
      "source": [
        "#Buscando os dados \n",
        "\n",
        "tickers = ['PETR3.SA', 'MGLU3.SA', 'ITSA4.SA', 'RDOR3.SA', 'LCAM3.SA', 'BPAC11.SA',\n",
        "           'CSAN3.SA', 'SMFT3.SA', 'ARZZ3.SA', 'TRPL3.SA', 'B3SA3.SA', 'WEGE3.SA', '^BVSP']\n",
        "\n",
        "carteira1 = pd.DataFrame()\n",
        "\n",
        "for i in tickers:\n",
        "  carteira1[i] = yf.download(i, start='2021-11-01', end='2021-11-30')['Adj Close']\n",
        "\n",
        "carteira1.tail()"
      ],
      "metadata": {
        "id": "W7ymbgRH2yZE",
        "colab": {
          "base_uri": "https://localhost:8080/",
          "height": 463
        },
        "outputId": "6b113303-0f58-4411-95e5-3831ceabe541"
      },
      "execution_count": 4,
      "outputs": [
        {
          "output_type": "stream",
          "name": "stdout",
          "text": [
            "[*********************100%***********************]  1 of 1 completed\n",
            "[*********************100%***********************]  1 of 1 completed\n",
            "[*********************100%***********************]  1 of 1 completed\n",
            "[*********************100%***********************]  1 of 1 completed\n",
            "[*********************100%***********************]  1 of 1 completed\n",
            "[*********************100%***********************]  1 of 1 completed\n",
            "[*********************100%***********************]  1 of 1 completed\n",
            "[*********************100%***********************]  1 of 1 completed\n",
            "[*********************100%***********************]  1 of 1 completed\n",
            "[*********************100%***********************]  1 of 1 completed\n",
            "[*********************100%***********************]  1 of 1 completed\n",
            "[*********************100%***********************]  1 of 1 completed\n",
            "[*********************100%***********************]  1 of 1 completed\n"
          ]
        },
        {
          "output_type": "execute_result",
          "data": {
            "text/html": [
              "<div>\n",
              "<style scoped>\n",
              "    .dataframe tbody tr th:only-of-type {\n",
              "        vertical-align: middle;\n",
              "    }\n",
              "\n",
              "    .dataframe tbody tr th {\n",
              "        vertical-align: top;\n",
              "    }\n",
              "\n",
              "    .dataframe thead th {\n",
              "        text-align: right;\n",
              "    }\n",
              "</style>\n",
              "<table border=\"1\" class=\"dataframe\">\n",
              "  <thead>\n",
              "    <tr style=\"text-align: right;\">\n",
              "      <th></th>\n",
              "      <th>PETR3.SA</th>\n",
              "      <th>MGLU3.SA</th>\n",
              "      <th>ITSA4.SA</th>\n",
              "      <th>RDOR3.SA</th>\n",
              "      <th>LCAM3.SA</th>\n",
              "      <th>BPAC11.SA</th>\n",
              "      <th>CSAN3.SA</th>\n",
              "      <th>SMFT3.SA</th>\n",
              "      <th>ARZZ3.SA</th>\n",
              "      <th>TRPL3.SA</th>\n",
              "      <th>B3SA3.SA</th>\n",
              "      <th>WEGE3.SA</th>\n",
              "      <th>^BVSP</th>\n",
              "    </tr>\n",
              "    <tr>\n",
              "      <th>Date</th>\n",
              "      <th></th>\n",
              "      <th></th>\n",
              "      <th></th>\n",
              "      <th></th>\n",
              "      <th></th>\n",
              "      <th></th>\n",
              "      <th></th>\n",
              "      <th></th>\n",
              "      <th></th>\n",
              "      <th></th>\n",
              "      <th></th>\n",
              "      <th></th>\n",
              "      <th></th>\n",
              "    </tr>\n",
              "  </thead>\n",
              "  <tbody>\n",
              "    <tr>\n",
              "      <th>2021-11-23</th>\n",
              "      <td>25.653015</td>\n",
              "      <td>8.60</td>\n",
              "      <td>9.737445</td>\n",
              "      <td>53.830002</td>\n",
              "      <td>23.930000</td>\n",
              "      <td>20.100000</td>\n",
              "      <td>21.270000</td>\n",
              "      <td>21.059999</td>\n",
              "      <td>70.492790</td>\n",
              "      <td>31.510000</td>\n",
              "      <td>11.98</td>\n",
              "      <td>34.160000</td>\n",
              "      <td>103663.0</td>\n",
              "    </tr>\n",
              "    <tr>\n",
              "      <th>2021-11-24</th>\n",
              "      <td>26.153040</td>\n",
              "      <td>8.82</td>\n",
              "      <td>9.891409</td>\n",
              "      <td>52.150002</td>\n",
              "      <td>23.620001</td>\n",
              "      <td>20.600000</td>\n",
              "      <td>21.209999</td>\n",
              "      <td>20.629999</td>\n",
              "      <td>70.720924</td>\n",
              "      <td>31.500000</td>\n",
              "      <td>12.19</td>\n",
              "      <td>33.529999</td>\n",
              "      <td>104514.0</td>\n",
              "    </tr>\n",
              "    <tr>\n",
              "      <th>2021-11-25</th>\n",
              "      <td>27.233448</td>\n",
              "      <td>8.70</td>\n",
              "      <td>9.980969</td>\n",
              "      <td>52.000000</td>\n",
              "      <td>24.370001</td>\n",
              "      <td>21.840000</td>\n",
              "      <td>21.520000</td>\n",
              "      <td>21.280001</td>\n",
              "      <td>71.226784</td>\n",
              "      <td>31.410000</td>\n",
              "      <td>12.37</td>\n",
              "      <td>33.799999</td>\n",
              "      <td>105811.0</td>\n",
              "    </tr>\n",
              "    <tr>\n",
              "      <th>2021-11-26</th>\n",
              "      <td>26.045891</td>\n",
              "      <td>8.06</td>\n",
              "      <td>9.781947</td>\n",
              "      <td>50.790001</td>\n",
              "      <td>23.580000</td>\n",
              "      <td>20.820000</td>\n",
              "      <td>21.299999</td>\n",
              "      <td>19.450001</td>\n",
              "      <td>68.578468</td>\n",
              "      <td>31.430000</td>\n",
              "      <td>11.78</td>\n",
              "      <td>32.689999</td>\n",
              "      <td>102224.0</td>\n",
              "    </tr>\n",
              "    <tr>\n",
              "      <th>2021-11-29</th>\n",
              "      <td>26.929861</td>\n",
              "      <td>8.04</td>\n",
              "      <td>9.771996</td>\n",
              "      <td>51.250000</td>\n",
              "      <td>23.540001</td>\n",
              "      <td>21.540001</td>\n",
              "      <td>21.480000</td>\n",
              "      <td>18.870001</td>\n",
              "      <td>67.646103</td>\n",
              "      <td>31.299999</td>\n",
              "      <td>11.50</td>\n",
              "      <td>32.410000</td>\n",
              "      <td>102814.0</td>\n",
              "    </tr>\n",
              "  </tbody>\n",
              "</table>\n",
              "</div>"
            ],
            "text/plain": [
              "             PETR3.SA  MGLU3.SA  ITSA4.SA  ...  B3SA3.SA   WEGE3.SA     ^BVSP\n",
              "Date                                       ...                               \n",
              "2021-11-23  25.653015      8.60  9.737445  ...     11.98  34.160000  103663.0\n",
              "2021-11-24  26.153040      8.82  9.891409  ...     12.19  33.529999  104514.0\n",
              "2021-11-25  27.233448      8.70  9.980969  ...     12.37  33.799999  105811.0\n",
              "2021-11-26  26.045891      8.06  9.781947  ...     11.78  32.689999  102224.0\n",
              "2021-11-29  26.929861      8.04  9.771996  ...     11.50  32.410000  102814.0\n",
              "\n",
              "[5 rows x 13 columns]"
            ]
          },
          "metadata": {},
          "execution_count": 4
        }
      ]
    },
    {
      "cell_type": "code",
      "source": [
        "#Obtendo retorno simples\n",
        "\n",
        "ret_simples = carteira1.pct_change()\n",
        "ret_simples.fillna(0, inplace=True)\n",
        "ret_simples.head()"
      ],
      "metadata": {
        "colab": {
          "base_uri": "https://localhost:8080/",
          "height": 237
        },
        "id": "84uiIeFsdVvF",
        "outputId": "54339d81-ce47-4002-b1a9-00a2a3faaced"
      },
      "execution_count": 5,
      "outputs": [
        {
          "output_type": "execute_result",
          "data": {
            "text/html": [
              "<div>\n",
              "<style scoped>\n",
              "    .dataframe tbody tr th:only-of-type {\n",
              "        vertical-align: middle;\n",
              "    }\n",
              "\n",
              "    .dataframe tbody tr th {\n",
              "        vertical-align: top;\n",
              "    }\n",
              "\n",
              "    .dataframe thead th {\n",
              "        text-align: right;\n",
              "    }\n",
              "</style>\n",
              "<table border=\"1\" class=\"dataframe\">\n",
              "  <thead>\n",
              "    <tr style=\"text-align: right;\">\n",
              "      <th></th>\n",
              "      <th>PETR3.SA</th>\n",
              "      <th>MGLU3.SA</th>\n",
              "      <th>ITSA4.SA</th>\n",
              "      <th>RDOR3.SA</th>\n",
              "      <th>LCAM3.SA</th>\n",
              "      <th>BPAC11.SA</th>\n",
              "      <th>CSAN3.SA</th>\n",
              "      <th>SMFT3.SA</th>\n",
              "      <th>ARZZ3.SA</th>\n",
              "      <th>TRPL3.SA</th>\n",
              "      <th>B3SA3.SA</th>\n",
              "      <th>WEGE3.SA</th>\n",
              "      <th>^BVSP</th>\n",
              "    </tr>\n",
              "    <tr>\n",
              "      <th>Date</th>\n",
              "      <th></th>\n",
              "      <th></th>\n",
              "      <th></th>\n",
              "      <th></th>\n",
              "      <th></th>\n",
              "      <th></th>\n",
              "      <th></th>\n",
              "      <th></th>\n",
              "      <th></th>\n",
              "      <th></th>\n",
              "      <th></th>\n",
              "      <th></th>\n",
              "      <th></th>\n",
              "    </tr>\n",
              "  </thead>\n",
              "  <tbody>\n",
              "    <tr>\n",
              "      <th>2021-11-01</th>\n",
              "      <td>0.000000</td>\n",
              "      <td>0.000000</td>\n",
              "      <td>0.000000</td>\n",
              "      <td>0.000000</td>\n",
              "      <td>0.000000</td>\n",
              "      <td>0.000000</td>\n",
              "      <td>0.000000</td>\n",
              "      <td>0.000000</td>\n",
              "      <td>0.000000</td>\n",
              "      <td>0.000000</td>\n",
              "      <td>0.000000</td>\n",
              "      <td>0.000000</td>\n",
              "      <td>0.000000</td>\n",
              "    </tr>\n",
              "    <tr>\n",
              "      <th>2021-11-03</th>\n",
              "      <td>-0.042509</td>\n",
              "      <td>0.022124</td>\n",
              "      <td>0.008563</td>\n",
              "      <td>0.056111</td>\n",
              "      <td>0.064468</td>\n",
              "      <td>0.009750</td>\n",
              "      <td>0.018326</td>\n",
              "      <td>0.009611</td>\n",
              "      <td>0.053282</td>\n",
              "      <td>0.036489</td>\n",
              "      <td>0.001669</td>\n",
              "      <td>0.019481</td>\n",
              "      <td>0.000625</td>\n",
              "    </tr>\n",
              "    <tr>\n",
              "      <th>2021-11-04</th>\n",
              "      <td>-0.029476</td>\n",
              "      <td>-0.040693</td>\n",
              "      <td>-0.033019</td>\n",
              "      <td>-0.081701</td>\n",
              "      <td>0.001408</td>\n",
              "      <td>-0.018052</td>\n",
              "      <td>-0.016051</td>\n",
              "      <td>-0.001428</td>\n",
              "      <td>-0.005746</td>\n",
              "      <td>-0.022115</td>\n",
              "      <td>-0.005000</td>\n",
              "      <td>0.001062</td>\n",
              "      <td>-0.020877</td>\n",
              "    </tr>\n",
              "    <tr>\n",
              "      <th>2021-11-05</th>\n",
              "      <td>0.000750</td>\n",
              "      <td>0.122744</td>\n",
              "      <td>-0.007805</td>\n",
              "      <td>0.006992</td>\n",
              "      <td>0.038443</td>\n",
              "      <td>0.044891</td>\n",
              "      <td>0.027187</td>\n",
              "      <td>-0.012393</td>\n",
              "      <td>-0.005276</td>\n",
              "      <td>-0.035229</td>\n",
              "      <td>0.036013</td>\n",
              "      <td>-0.001060</td>\n",
              "      <td>0.013654</td>\n",
              "    </tr>\n",
              "    <tr>\n",
              "      <th>2021-11-08</th>\n",
              "      <td>0.016486</td>\n",
              "      <td>-0.040997</td>\n",
              "      <td>-0.001967</td>\n",
              "      <td>0.006770</td>\n",
              "      <td>-0.019413</td>\n",
              "      <td>-0.025368</td>\n",
              "      <td>-0.006737</td>\n",
              "      <td>-0.019788</td>\n",
              "      <td>-0.033847</td>\n",
              "      <td>0.011055</td>\n",
              "      <td>-0.010509</td>\n",
              "      <td>-0.015393</td>\n",
              "      <td>-0.000410</td>\n",
              "    </tr>\n",
              "  </tbody>\n",
              "</table>\n",
              "</div>"
            ],
            "text/plain": [
              "            PETR3.SA  MGLU3.SA  ITSA4.SA  ...  B3SA3.SA  WEGE3.SA     ^BVSP\n",
              "Date                                      ...                              \n",
              "2021-11-01  0.000000  0.000000  0.000000  ...  0.000000  0.000000  0.000000\n",
              "2021-11-03 -0.042509  0.022124  0.008563  ...  0.001669  0.019481  0.000625\n",
              "2021-11-04 -0.029476 -0.040693 -0.033019  ... -0.005000  0.001062 -0.020877\n",
              "2021-11-05  0.000750  0.122744 -0.007805  ...  0.036013 -0.001060  0.013654\n",
              "2021-11-08  0.016486 -0.040997 -0.001967  ... -0.010509 -0.015393 -0.000410\n",
              "\n",
              "[5 rows x 13 columns]"
            ]
          },
          "metadata": {},
          "execution_count": 5
        }
      ]
    },
    {
      "cell_type": "code",
      "source": [
        "#Obtendo o retorno acumulado e normalizando a base de dados\n",
        "\n",
        "ret_acum = (1 + ret_simples).cumprod()\n",
        "ret_acum.head()"
      ],
      "metadata": {
        "colab": {
          "base_uri": "https://localhost:8080/",
          "height": 237
        },
        "id": "uKTbWmgnzv1t",
        "outputId": "aeb0fa24-bd29-44b3-be56-0bf32526e8c6"
      },
      "execution_count": 6,
      "outputs": [
        {
          "output_type": "execute_result",
          "data": {
            "text/html": [
              "<div>\n",
              "<style scoped>\n",
              "    .dataframe tbody tr th:only-of-type {\n",
              "        vertical-align: middle;\n",
              "    }\n",
              "\n",
              "    .dataframe tbody tr th {\n",
              "        vertical-align: top;\n",
              "    }\n",
              "\n",
              "    .dataframe thead th {\n",
              "        text-align: right;\n",
              "    }\n",
              "</style>\n",
              "<table border=\"1\" class=\"dataframe\">\n",
              "  <thead>\n",
              "    <tr style=\"text-align: right;\">\n",
              "      <th></th>\n",
              "      <th>PETR3.SA</th>\n",
              "      <th>MGLU3.SA</th>\n",
              "      <th>ITSA4.SA</th>\n",
              "      <th>RDOR3.SA</th>\n",
              "      <th>LCAM3.SA</th>\n",
              "      <th>BPAC11.SA</th>\n",
              "      <th>CSAN3.SA</th>\n",
              "      <th>SMFT3.SA</th>\n",
              "      <th>ARZZ3.SA</th>\n",
              "      <th>TRPL3.SA</th>\n",
              "      <th>B3SA3.SA</th>\n",
              "      <th>WEGE3.SA</th>\n",
              "      <th>^BVSP</th>\n",
              "    </tr>\n",
              "    <tr>\n",
              "      <th>Date</th>\n",
              "      <th></th>\n",
              "      <th></th>\n",
              "      <th></th>\n",
              "      <th></th>\n",
              "      <th></th>\n",
              "      <th></th>\n",
              "      <th></th>\n",
              "      <th></th>\n",
              "      <th></th>\n",
              "      <th></th>\n",
              "      <th></th>\n",
              "      <th></th>\n",
              "      <th></th>\n",
              "    </tr>\n",
              "  </thead>\n",
              "  <tbody>\n",
              "    <tr>\n",
              "      <th>2021-11-01</th>\n",
              "      <td>1.000000</td>\n",
              "      <td>1.000000</td>\n",
              "      <td>1.000000</td>\n",
              "      <td>1.000000</td>\n",
              "      <td>1.000000</td>\n",
              "      <td>1.000000</td>\n",
              "      <td>1.000000</td>\n",
              "      <td>1.000000</td>\n",
              "      <td>1.000000</td>\n",
              "      <td>1.000000</td>\n",
              "      <td>1.000000</td>\n",
              "      <td>1.000000</td>\n",
              "      <td>1.000000</td>\n",
              "    </tr>\n",
              "    <tr>\n",
              "      <th>2021-11-03</th>\n",
              "      <td>0.957491</td>\n",
              "      <td>1.022124</td>\n",
              "      <td>1.008563</td>\n",
              "      <td>1.056111</td>\n",
              "      <td>1.064468</td>\n",
              "      <td>1.009750</td>\n",
              "      <td>1.018326</td>\n",
              "      <td>1.009611</td>\n",
              "      <td>1.053282</td>\n",
              "      <td>1.036489</td>\n",
              "      <td>1.001669</td>\n",
              "      <td>1.019481</td>\n",
              "      <td>1.000625</td>\n",
              "    </tr>\n",
              "    <tr>\n",
              "      <th>2021-11-04</th>\n",
              "      <td>0.929268</td>\n",
              "      <td>0.980531</td>\n",
              "      <td>0.975262</td>\n",
              "      <td>0.969825</td>\n",
              "      <td>1.065967</td>\n",
              "      <td>0.991522</td>\n",
              "      <td>1.001981</td>\n",
              "      <td>1.008169</td>\n",
              "      <td>1.047231</td>\n",
              "      <td>1.013568</td>\n",
              "      <td>0.996661</td>\n",
              "      <td>1.020563</td>\n",
              "      <td>0.979735</td>\n",
              "    </tr>\n",
              "    <tr>\n",
              "      <th>2021-11-05</th>\n",
              "      <td>0.929965</td>\n",
              "      <td>1.100885</td>\n",
              "      <td>0.967650</td>\n",
              "      <td>0.976606</td>\n",
              "      <td>1.106946</td>\n",
              "      <td>1.036032</td>\n",
              "      <td>1.029222</td>\n",
              "      <td>0.995675</td>\n",
              "      <td>1.041705</td>\n",
              "      <td>0.977860</td>\n",
              "      <td>1.032554</td>\n",
              "      <td>1.019481</td>\n",
              "      <td>0.993112</td>\n",
              "    </tr>\n",
              "    <tr>\n",
              "      <th>2021-11-08</th>\n",
              "      <td>0.945296</td>\n",
              "      <td>1.055752</td>\n",
              "      <td>0.965747</td>\n",
              "      <td>0.983217</td>\n",
              "      <td>1.085457</td>\n",
              "      <td>1.009750</td>\n",
              "      <td>1.022288</td>\n",
              "      <td>0.975973</td>\n",
              "      <td>1.006446</td>\n",
              "      <td>0.988671</td>\n",
              "      <td>1.021703</td>\n",
              "      <td>1.003788</td>\n",
              "      <td>0.992705</td>\n",
              "    </tr>\n",
              "  </tbody>\n",
              "</table>\n",
              "</div>"
            ],
            "text/plain": [
              "            PETR3.SA  MGLU3.SA  ITSA4.SA  ...  B3SA3.SA  WEGE3.SA     ^BVSP\n",
              "Date                                      ...                              \n",
              "2021-11-01  1.000000  1.000000  1.000000  ...  1.000000  1.000000  1.000000\n",
              "2021-11-03  0.957491  1.022124  1.008563  ...  1.001669  1.019481  1.000625\n",
              "2021-11-04  0.929268  0.980531  0.975262  ...  0.996661  1.020563  0.979735\n",
              "2021-11-05  0.929965  1.100885  0.967650  ...  1.032554  1.019481  0.993112\n",
              "2021-11-08  0.945296  1.055752  0.965747  ...  1.021703  1.003788  0.992705\n",
              "\n",
              "[5 rows x 13 columns]"
            ]
          },
          "metadata": {},
          "execution_count": 6
        }
      ]
    },
    {
      "cell_type": "code",
      "source": [
        "ret_simples.shape"
      ],
      "metadata": {
        "colab": {
          "base_uri": "https://localhost:8080/"
        },
        "id": "PcREyEIzgI-S",
        "outputId": "a4aa6e1a-5a2f-4c13-9da3-b01b8403ff62"
      },
      "execution_count": 7,
      "outputs": [
        {
          "output_type": "execute_result",
          "data": {
            "text/plain": [
              "(19, 13)"
            ]
          },
          "metadata": {},
          "execution_count": 7
        }
      ]
    },
    {
      "cell_type": "code",
      "source": [
        "#Calculando a média diária do retorno simples\n",
        "\n",
        "mean_retsimples = ret_simples.mean(axis=1)\n",
        "mean_retsimples = pd.DataFrame(mean_retsimples.head())\n",
        "mean_retsimples.rename(columns={0:'Carteira'}, inplace=True)\n",
        "mean_retsimples['Mercado'] = ret_simples['^BVSP']\n",
        "mean_retsimples.tail()"
      ],
      "metadata": {
        "colab": {
          "base_uri": "https://localhost:8080/",
          "height": 237
        },
        "id": "si8pqPWkoMkM",
        "outputId": "669acb0d-0416-4d77-c73c-462800f0da4b"
      },
      "execution_count": 8,
      "outputs": [
        {
          "output_type": "execute_result",
          "data": {
            "text/html": [
              "<div>\n",
              "<style scoped>\n",
              "    .dataframe tbody tr th:only-of-type {\n",
              "        vertical-align: middle;\n",
              "    }\n",
              "\n",
              "    .dataframe tbody tr th {\n",
              "        vertical-align: top;\n",
              "    }\n",
              "\n",
              "    .dataframe thead th {\n",
              "        text-align: right;\n",
              "    }\n",
              "</style>\n",
              "<table border=\"1\" class=\"dataframe\">\n",
              "  <thead>\n",
              "    <tr style=\"text-align: right;\">\n",
              "      <th></th>\n",
              "      <th>Carteira</th>\n",
              "      <th>Mercado</th>\n",
              "    </tr>\n",
              "    <tr>\n",
              "      <th>Date</th>\n",
              "      <th></th>\n",
              "      <th></th>\n",
              "    </tr>\n",
              "  </thead>\n",
              "  <tbody>\n",
              "    <tr>\n",
              "      <th>2021-11-01</th>\n",
              "      <td>0.000000</td>\n",
              "      <td>0.000000</td>\n",
              "    </tr>\n",
              "    <tr>\n",
              "      <th>2021-11-03</th>\n",
              "      <td>0.019845</td>\n",
              "      <td>0.000625</td>\n",
              "    </tr>\n",
              "    <tr>\n",
              "      <th>2021-11-04</th>\n",
              "      <td>-0.020899</td>\n",
              "      <td>-0.020877</td>\n",
              "    </tr>\n",
              "    <tr>\n",
              "      <th>2021-11-05</th>\n",
              "      <td>0.017609</td>\n",
              "      <td>0.013654</td>\n",
              "    </tr>\n",
              "    <tr>\n",
              "      <th>2021-11-08</th>\n",
              "      <td>-0.010778</td>\n",
              "      <td>-0.000410</td>\n",
              "    </tr>\n",
              "  </tbody>\n",
              "</table>\n",
              "</div>"
            ],
            "text/plain": [
              "            Carteira   Mercado\n",
              "Date                          \n",
              "2021-11-01  0.000000  0.000000\n",
              "2021-11-03  0.019845  0.000625\n",
              "2021-11-04 -0.020899 -0.020877\n",
              "2021-11-05  0.017609  0.013654\n",
              "2021-11-08 -0.010778 -0.000410"
            ]
          },
          "metadata": {},
          "execution_count": 8
        }
      ]
    },
    {
      "cell_type": "code",
      "source": [
        "mean_retsimples.mean()"
      ],
      "metadata": {
        "colab": {
          "base_uri": "https://localhost:8080/"
        },
        "id": "rl0x2LsHEVpV",
        "outputId": "f2c64427-8b5d-448b-862e-fddafe5bac3d"
      },
      "execution_count": 24,
      "outputs": [
        {
          "output_type": "execute_result",
          "data": {
            "text/plain": [
              "Carteira    0.001155\n",
              "Mercado    -0.001402\n",
              "dtype: float64"
            ]
          },
          "metadata": {},
          "execution_count": 24
        }
      ]
    },
    {
      "cell_type": "code",
      "source": [
        "#Visualização da média diária do retorno simples\n",
        "\n",
        "plt.figure(figsize=(18, 9));\n",
        "plt.title('Desempenho da carteira (NOV/2021)', fontsize=20);\n",
        "x, = plt.plot(mean_retsimples.Carteira, marker='^', color='blue', linewidth=2.5, label='Carteira');\n",
        "y, = plt.plot(mean_retsimples.Mercado, marker='o', color='orange', linewidth=2.5, label='IBOVESPA');\n",
        "plt.xlabel('Data', fontsize=17);\n",
        "plt.ylabel('Retorno simples', fontsize=17);\n",
        "plt.text(np.datetime64('2021-11-05'), -0.017, 'By: Invest Jr. - Yahoo Finance', fontsize=14);\n",
        "plt.legend(fontsize=15, loc=2);"
      ],
      "metadata": {
        "colab": {
          "base_uri": "https://localhost:8080/",
          "height": 580
        },
        "id": "f9r3hRuQrf0r",
        "outputId": "ef1267f6-3c92-47b3-aa7e-e90013e93f8d"
      },
      "execution_count": 9,
      "outputs": [
        {
          "output_type": "display_data",
          "data": {
            "image/png": "[encoded data removed]",
            "text/plain": [
              "<Figure size 1296x648 with 1 Axes>"
            ]
          },
          "metadata": {}
        }
      ]
    },
    {
      "cell_type": "code",
      "source": [
        "#Calculando a média diária do retorno acumulado\n",
        "\n",
        "mean_retacum = ret_acum.mean(axis=1)\n",
        "mean_retacum  = pd.DataFrame(mean_retacum.head())\n",
        "mean_retacum.rename(columns={0:'Carteira'}, inplace=True)\n",
        "mean_retacum['Mercado'] = ret_acum['^BVSP']\n",
        "mean_retacum.tail()"
      ],
      "metadata": {
        "colab": {
          "base_uri": "https://localhost:8080/",
          "height": 237
        },
        "id": "pu4M178U0UoB",
        "outputId": "5b0214f4-c0a7-41c3-ebeb-492655e7a0b5"
      },
      "execution_count": 10,
      "outputs": [
        {
          "output_type": "execute_result",
          "data": {
            "text/html": [
              "<div>\n",
              "<style scoped>\n",
              "    .dataframe tbody tr th:only-of-type {\n",
              "        vertical-align: middle;\n",
              "    }\n",
              "\n",
              "    .dataframe tbody tr th {\n",
              "        vertical-align: top;\n",
              "    }\n",
              "\n",
              "    .dataframe thead th {\n",
              "        text-align: right;\n",
              "    }\n",
              "</style>\n",
              "<table border=\"1\" class=\"dataframe\">\n",
              "  <thead>\n",
              "    <tr style=\"text-align: right;\">\n",
              "      <th></th>\n",
              "      <th>Carteira</th>\n",
              "      <th>Mercado</th>\n",
              "    </tr>\n",
              "    <tr>\n",
              "      <th>Date</th>\n",
              "      <th></th>\n",
              "      <th></th>\n",
              "    </tr>\n",
              "  </thead>\n",
              "  <tbody>\n",
              "    <tr>\n",
              "      <th>2021-11-01</th>\n",
              "      <td>1.000000</td>\n",
              "      <td>1.000000</td>\n",
              "    </tr>\n",
              "    <tr>\n",
              "      <th>2021-11-03</th>\n",
              "      <td>1.019845</td>\n",
              "      <td>1.000625</td>\n",
              "    </tr>\n",
              "    <tr>\n",
              "      <th>2021-11-04</th>\n",
              "      <td>0.998483</td>\n",
              "      <td>0.979735</td>\n",
              "    </tr>\n",
              "    <tr>\n",
              "      <th>2021-11-05</th>\n",
              "      <td>1.015977</td>\n",
              "      <td>0.993112</td>\n",
              "    </tr>\n",
              "    <tr>\n",
              "      <th>2021-11-08</th>\n",
              "      <td>1.004369</td>\n",
              "      <td>0.992705</td>\n",
              "    </tr>\n",
              "  </tbody>\n",
              "</table>\n",
              "</div>"
            ],
            "text/plain": [
              "            Carteira   Mercado\n",
              "Date                          \n",
              "2021-11-01  1.000000  1.000000\n",
              "2021-11-03  1.019845  1.000625\n",
              "2021-11-04  0.998483  0.979735\n",
              "2021-11-05  1.015977  0.993112\n",
              "2021-11-08  1.004369  0.992705"
            ]
          },
          "metadata": {},
          "execution_count": 10
        }
      ]
    },
    {
      "cell_type": "code",
      "source": [
        "mean_retacum.mean()"
      ],
      "metadata": {
        "colab": {
          "base_uri": "https://localhost:8080/"
        },
        "id": "Xi-jdCbaEjh0",
        "outputId": "37f3dc96-6739-49d1-9945-3bcd98cad239"
      },
      "execution_count": 25,
      "outputs": [
        {
          "output_type": "execute_result",
          "data": {
            "text/plain": [
              "Carteira    1.007735\n",
              "Mercado     0.993235\n",
              "dtype: float64"
            ]
          },
          "metadata": {},
          "execution_count": 25
        }
      ]
    },
    {
      "cell_type": "code",
      "source": [
        "#Visualização da média diária do retorno acumulado\n",
        "\n",
        "plt.figure(figsize=(18, 9));\n",
        "plt.title('Desempenho acumulado da carteira (NOV/2021)', fontsize=20);\n",
        "x, = plt.plot(mean_retacum.Carteira, marker='^', color='blue', linewidth=2.5, label='Carteira');\n",
        "y, = plt.plot(mean_retacum.Mercado, marker='o', color='orange', linewidth=2.5, label='IBOVESPA');\n",
        "plt.xlabel('Data', fontsize=17);\n",
        "plt.ylabel('Retorno acumulado', fontsize=17);\n",
        "plt.text(np.datetime64('2021-11-05'), 0.983, 'By: Invest Jr. - Yahoo Finance', fontsize=14);\n",
        "plt.legend(fontsize=15, loc=2);"
      ],
      "metadata": {
        "colab": {
          "base_uri": "https://localhost:8080/",
          "height": 580
        },
        "id": "M6Tcuz-N0QgD",
        "outputId": "278ae935-dca1-4c96-dcde-5d7507fe0699"
      },
      "execution_count": 11,
      "outputs": [
        {
          "output_type": "display_data",
          "data": {
            "image/png": "[encoded data removed]",
            "text/plain": [
              "<Figure size 1296x648 with 1 Axes>"
            ]
          },
          "metadata": {}
        }
      ]
    },
    {
      "cell_type": "markdown",
      "source": [
        "Criando a tabela de desempenho"
      ],
      "metadata": {
        "id": "ZhuMriJLlwrF"
      }
    },
    {
      "cell_type": "code",
      "source": [
        "preco_inicial = np.round(carteira1.iloc[:1, :12].values.T, 2)\n",
        "\n",
        "preco_inicio = []\n",
        "\n",
        "for i in preco_inicial:\n",
        "  preco_inicio.append(f'R$ {str(i[0])}')\n",
        "\n",
        "preco_inicio"
      ],
      "metadata": {
        "colab": {
          "base_uri": "https://localhost:8080/"
        },
        "id": "VIDwoJlijWfa",
        "outputId": "6f955a40-8b6e-4917-e76f-623b5053e23c"
      },
      "execution_count": 12,
      "outputs": [
        {
          "output_type": "execute_result",
          "data": {
            "text/plain": [
              "['R$ 25.63',\n",
              " 'R$ 11.3',\n",
              " 'R$ 10.3',\n",
              " 'R$ 58.99',\n",
              " 'R$ 20.01',\n",
              " 'R$ 23.59',\n",
              " 'R$ 20.19',\n",
              " 'R$ 20.81',\n",
              " 'R$ 75.39',\n",
              " 'R$ 30.53',\n",
              " 'R$ 11.98',\n",
              " 'R$ 36.96']"
            ]
          },
          "metadata": {},
          "execution_count": 12
        }
      ]
    },
    {
      "cell_type": "code",
      "source": [
        "preco_final = np.round(carteira1.iloc[-1:, :12].values.T, 2)\n",
        "\n",
        "preco_fim = []\n",
        "\n",
        "for i in preco_final:\n",
        "  preco_fim.append(f'R$ {i[0]}')\n",
        "\n",
        "preco_fim"
      ],
      "metadata": {
        "colab": {
          "base_uri": "https://localhost:8080/"
        },
        "id": "2xD7UGE7k88Z",
        "outputId": "197f57ab-6305-433b-999a-447244e42e32"
      },
      "execution_count": 13,
      "outputs": [
        {
          "output_type": "execute_result",
          "data": {
            "text/plain": [
              "['R$ 26.93',\n",
              " 'R$ 8.04',\n",
              " 'R$ 9.77',\n",
              " 'R$ 51.25',\n",
              " 'R$ 23.54',\n",
              " 'R$ 21.54',\n",
              " 'R$ 21.48',\n",
              " 'R$ 18.87',\n",
              " 'R$ 67.65',\n",
              " 'R$ 31.3',\n",
              " 'R$ 11.5',\n",
              " 'R$ 32.41']"
            ]
          },
          "metadata": {},
          "execution_count": 13
        }
      ]
    },
    {
      "cell_type": "code",
      "source": [
        "#1º passo: obter o retorno simples da carteira\n",
        "\n",
        "ret_simples.head().iloc[1:, :12]"
      ],
      "metadata": {
        "colab": {
          "base_uri": "https://localhost:8080/",
          "height": 206
        },
        "id": "WNzssShXvE4n",
        "outputId": "be005017-005d-499e-a29e-a1756122e3a6"
      },
      "execution_count": 14,
      "outputs": [
        {
          "output_type": "execute_result",
          "data": {
            "text/html": [
              "<div>\n",
              "<style scoped>\n",
              "    .dataframe tbody tr th:only-of-type {\n",
              "        vertical-align: middle;\n",
              "    }\n",
              "\n",
              "    .dataframe tbody tr th {\n",
              "        vertical-align: top;\n",
              "    }\n",
              "\n",
              "    .dataframe thead th {\n",
              "        text-align: right;\n",
              "    }\n",
              "</style>\n",
              "<table border=\"1\" class=\"dataframe\">\n",
              "  <thead>\n",
              "    <tr style=\"text-align: right;\">\n",
              "      <th></th>\n",
              "      <th>PETR3.SA</th>\n",
              "      <th>MGLU3.SA</th>\n",
              "      <th>ITSA4.SA</th>\n",
              "      <th>RDOR3.SA</th>\n",
              "      <th>LCAM3.SA</th>\n",
              "      <th>BPAC11.SA</th>\n",
              "      <th>CSAN3.SA</th>\n",
              "      <th>SMFT3.SA</th>\n",
              "      <th>ARZZ3.SA</th>\n",
              "      <th>TRPL3.SA</th>\n",
              "      <th>B3SA3.SA</th>\n",
              "      <th>WEGE3.SA</th>\n",
              "    </tr>\n",
              "    <tr>\n",
              "      <th>Date</th>\n",
              "      <th></th>\n",
              "      <th></th>\n",
              "      <th></th>\n",
              "      <th></th>\n",
              "      <th></th>\n",
              "      <th></th>\n",
              "      <th></th>\n",
              "      <th></th>\n",
              "      <th></th>\n",
              "      <th></th>\n",
              "      <th></th>\n",
              "      <th></th>\n",
              "    </tr>\n",
              "  </thead>\n",
              "  <tbody>\n",
              "    <tr>\n",
              "      <th>2021-11-03</th>\n",
              "      <td>-0.042509</td>\n",
              "      <td>0.022124</td>\n",
              "      <td>0.008563</td>\n",
              "      <td>0.056111</td>\n",
              "      <td>0.064468</td>\n",
              "      <td>0.009750</td>\n",
              "      <td>0.018326</td>\n",
              "      <td>0.009611</td>\n",
              "      <td>0.053282</td>\n",
              "      <td>0.036489</td>\n",
              "      <td>0.001669</td>\n",
              "      <td>0.019481</td>\n",
              "    </tr>\n",
              "    <tr>\n",
              "      <th>2021-11-04</th>\n",
              "      <td>-0.029476</td>\n",
              "      <td>-0.040693</td>\n",
              "      <td>-0.033019</td>\n",
              "      <td>-0.081701</td>\n",
              "      <td>0.001408</td>\n",
              "      <td>-0.018052</td>\n",
              "      <td>-0.016051</td>\n",
              "      <td>-0.001428</td>\n",
              "      <td>-0.005746</td>\n",
              "      <td>-0.022115</td>\n",
              "      <td>-0.005000</td>\n",
              "      <td>0.001062</td>\n",
              "    </tr>\n",
              "    <tr>\n",
              "      <th>2021-11-05</th>\n",
              "      <td>0.000750</td>\n",
              "      <td>0.122744</td>\n",
              "      <td>-0.007805</td>\n",
              "      <td>0.006992</td>\n",
              "      <td>0.038443</td>\n",
              "      <td>0.044891</td>\n",
              "      <td>0.027187</td>\n",
              "      <td>-0.012393</td>\n",
              "      <td>-0.005276</td>\n",
              "      <td>-0.035229</td>\n",
              "      <td>0.036013</td>\n",
              "      <td>-0.001060</td>\n",
              "    </tr>\n",
              "    <tr>\n",
              "      <th>2021-11-08</th>\n",
              "      <td>0.016486</td>\n",
              "      <td>-0.040997</td>\n",
              "      <td>-0.001967</td>\n",
              "      <td>0.006770</td>\n",
              "      <td>-0.019413</td>\n",
              "      <td>-0.025368</td>\n",
              "      <td>-0.006737</td>\n",
              "      <td>-0.019788</td>\n",
              "      <td>-0.033847</td>\n",
              "      <td>0.011055</td>\n",
              "      <td>-0.010509</td>\n",
              "      <td>-0.015393</td>\n",
              "    </tr>\n",
              "  </tbody>\n",
              "</table>\n",
              "</div>"
            ],
            "text/plain": [
              "            PETR3.SA  MGLU3.SA  ITSA4.SA  ...  TRPL3.SA  B3SA3.SA  WEGE3.SA\n",
              "Date                                      ...                              \n",
              "2021-11-03 -0.042509  0.022124  0.008563  ...  0.036489  0.001669  0.019481\n",
              "2021-11-04 -0.029476 -0.040693 -0.033019  ... -0.022115 -0.005000  0.001062\n",
              "2021-11-05  0.000750  0.122744 -0.007805  ... -0.035229  0.036013 -0.001060\n",
              "2021-11-08  0.016486 -0.040997 -0.001967  ...  0.011055 -0.010509 -0.015393\n",
              "\n",
              "[4 rows x 12 columns]"
            ]
          },
          "metadata": {},
          "execution_count": 14
        }
      ]
    },
    {
      "cell_type": "code",
      "source": [
        "#2º passo: calcular a média dos retornos esperados\n",
        "\n",
        "#mean_carteira = np.round(np.mean(retorno_carteira.iloc[1:, :12]) * 100, 2)\n",
        "mean_carteira = ret_simples.iloc[1:, :12].mean()\n",
        "mean_carteira"
      ],
      "metadata": {
        "colab": {
          "base_uri": "https://localhost:8080/"
        },
        "id": "uo0EVN76vt2Z",
        "outputId": "c9b296d1-80eb-498b-fd74-26b3f0891b37"
      },
      "execution_count": 15,
      "outputs": [
        {
          "output_type": "execute_result",
          "data": {
            "text/plain": [
              "PETR3.SA     0.003089\n",
              "MGLU3.SA    -0.016153\n",
              "ITSA4.SA    -0.002812\n",
              "RDOR3.SA    -0.007396\n",
              "LCAM3.SA     0.009468\n",
              "BPAC11.SA   -0.004404\n",
              "CSAN3.SA     0.003599\n",
              "SMFT3.SA    -0.004707\n",
              "ARZZ3.SA    -0.005504\n",
              "TRPL3.SA     0.002099\n",
              "B3SA3.SA    -0.002017\n",
              "WEGE3.SA    -0.007174\n",
              "dtype: float64"
            ]
          },
          "metadata": {},
          "execution_count": 15
        }
      ]
    },
    {
      "cell_type": "code",
      "source": [
        "#3º passo: calcular a covariância da carteira\n",
        "\n",
        "cov_carteira = ret_simples.head().iloc[1:, :12].cov()\n",
        "cov_carteira"
      ],
      "metadata": {
        "colab": {
          "base_uri": "https://localhost:8080/",
          "height": 426
        },
        "id": "N-7uYR4bwQPG",
        "outputId": "85d068dd-791c-4ceb-9478-38f3411a8a53"
      },
      "execution_count": 16,
      "outputs": [
        {
          "output_type": "execute_result",
          "data": {
            "text/html": [
              "<div>\n",
              "<style scoped>\n",
              "    .dataframe tbody tr th:only-of-type {\n",
              "        vertical-align: middle;\n",
              "    }\n",
              "\n",
              "    .dataframe tbody tr th {\n",
              "        vertical-align: top;\n",
              "    }\n",
              "\n",
              "    .dataframe thead th {\n",
              "        text-align: right;\n",
              "    }\n",
              "</style>\n",
              "<table border=\"1\" class=\"dataframe\">\n",
              "  <thead>\n",
              "    <tr style=\"text-align: right;\">\n",
              "      <th></th>\n",
              "      <th>PETR3.SA</th>\n",
              "      <th>MGLU3.SA</th>\n",
              "      <th>ITSA4.SA</th>\n",
              "      <th>RDOR3.SA</th>\n",
              "      <th>LCAM3.SA</th>\n",
              "      <th>BPAC11.SA</th>\n",
              "      <th>CSAN3.SA</th>\n",
              "      <th>SMFT3.SA</th>\n",
              "      <th>ARZZ3.SA</th>\n",
              "      <th>TRPL3.SA</th>\n",
              "      <th>B3SA3.SA</th>\n",
              "      <th>WEGE3.SA</th>\n",
              "    </tr>\n",
              "  </thead>\n",
              "  <tbody>\n",
              "    <tr>\n",
              "      <th>PETR3.SA</th>\n",
              "      <td>0.000733</td>\n",
              "      <td>0.000180</td>\n",
              "      <td>0.000034</td>\n",
              "      <td>-0.000007</td>\n",
              "      <td>-0.000637</td>\n",
              "      <td>-0.000038</td>\n",
              "      <td>-0.000029</td>\n",
              "      <td>-0.000343</td>\n",
              "      <td>-0.000847</td>\n",
              "      <td>-0.000293</td>\n",
              "      <td>0.000078</td>\n",
              "      <td>-0.000353</td>\n",
              "    </tr>\n",
              "    <tr>\n",
              "      <th>MGLU3.SA</th>\n",
              "      <td>0.000180</td>\n",
              "      <td>0.005965</td>\n",
              "      <td>0.000399</td>\n",
              "      <td>0.001778</td>\n",
              "      <td>0.001847</td>\n",
              "      <td>0.002441</td>\n",
              "      <td>0.001438</td>\n",
              "      <td>-0.000020</td>\n",
              "      <td>0.000673</td>\n",
              "      <td>-0.000972</td>\n",
              "      <td>0.001580</td>\n",
              "      <td>0.000275</td>\n",
              "    </tr>\n",
              "    <tr>\n",
              "      <th>ITSA4.SA</th>\n",
              "      <td>0.000034</td>\n",
              "      <td>0.000399</td>\n",
              "      <td>0.000312</td>\n",
              "      <td>0.001003</td>\n",
              "      <td>0.000323</td>\n",
              "      <td>0.000158</td>\n",
              "      <td>0.000227</td>\n",
              "      <td>0.000020</td>\n",
              "      <td>0.000275</td>\n",
              "      <td>0.000404</td>\n",
              "      <td>0.000036</td>\n",
              "      <td>0.000068</td>\n",
              "    </tr>\n",
              "    <tr>\n",
              "      <th>RDOR3.SA</th>\n",
              "      <td>-0.000007</td>\n",
              "      <td>0.001778</td>\n",
              "      <td>0.001003</td>\n",
              "      <td>0.003294</td>\n",
              "      <td>0.001297</td>\n",
              "      <td>0.000732</td>\n",
              "      <td>0.000850</td>\n",
              "      <td>0.000121</td>\n",
              "      <td>0.001073</td>\n",
              "      <td>0.001218</td>\n",
              "      <td>0.000249</td>\n",
              "      <td>0.000302</td>\n",
              "    </tr>\n",
              "    <tr>\n",
              "      <th>LCAM3.SA</th>\n",
              "      <td>-0.000637</td>\n",
              "      <td>0.001847</td>\n",
              "      <td>0.000323</td>\n",
              "      <td>0.001297</td>\n",
              "      <td>0.001404</td>\n",
              "      <td>0.000861</td>\n",
              "      <td>0.000617</td>\n",
              "      <td>0.000345</td>\n",
              "      <td>0.001234</td>\n",
              "      <td>0.000320</td>\n",
              "      <td>0.000406</td>\n",
              "      <td>0.000476</td>\n",
              "    </tr>\n",
              "    <tr>\n",
              "      <th>BPAC11.SA</th>\n",
              "      <td>-0.000038</td>\n",
              "      <td>0.002441</td>\n",
              "      <td>0.000158</td>\n",
              "      <td>0.000732</td>\n",
              "      <td>0.000861</td>\n",
              "      <td>0.001016</td>\n",
              "      <td>0.000599</td>\n",
              "      <td>0.000044</td>\n",
              "      <td>0.000407</td>\n",
              "      <td>-0.000360</td>\n",
              "      <td>0.000643</td>\n",
              "      <td>0.000167</td>\n",
              "    </tr>\n",
              "    <tr>\n",
              "      <th>CSAN3.SA</th>\n",
              "      <td>-0.000029</td>\n",
              "      <td>0.001438</td>\n",
              "      <td>0.000227</td>\n",
              "      <td>0.000850</td>\n",
              "      <td>0.000617</td>\n",
              "      <td>0.000599</td>\n",
              "      <td>0.000416</td>\n",
              "      <td>0.000044</td>\n",
              "      <td>0.000368</td>\n",
              "      <td>0.000016</td>\n",
              "      <td>0.000345</td>\n",
              "      <td>0.000131</td>\n",
              "    </tr>\n",
              "    <tr>\n",
              "      <th>SMFT3.SA</th>\n",
              "      <td>-0.000343</td>\n",
              "      <td>-0.000020</td>\n",
              "      <td>0.000020</td>\n",
              "      <td>0.000121</td>\n",
              "      <td>0.000345</td>\n",
              "      <td>0.000044</td>\n",
              "      <td>0.000044</td>\n",
              "      <td>0.000165</td>\n",
              "      <td>0.000435</td>\n",
              "      <td>0.000180</td>\n",
              "      <td>-0.000027</td>\n",
              "      <td>0.000176</td>\n",
              "    </tr>\n",
              "    <tr>\n",
              "      <th>ARZZ3.SA</th>\n",
              "      <td>-0.000847</td>\n",
              "      <td>0.000673</td>\n",
              "      <td>0.000275</td>\n",
              "      <td>0.001073</td>\n",
              "      <td>0.001234</td>\n",
              "      <td>0.000407</td>\n",
              "      <td>0.000368</td>\n",
              "      <td>0.000435</td>\n",
              "      <td>0.001343</td>\n",
              "      <td>0.000635</td>\n",
              "      <td>0.000079</td>\n",
              "      <td>0.000517</td>\n",
              "    </tr>\n",
              "    <tr>\n",
              "      <th>TRPL3.SA</th>\n",
              "      <td>-0.000293</td>\n",
              "      <td>-0.000972</td>\n",
              "      <td>0.000404</td>\n",
              "      <td>0.001218</td>\n",
              "      <td>0.000320</td>\n",
              "      <td>-0.000360</td>\n",
              "      <td>0.000016</td>\n",
              "      <td>0.000180</td>\n",
              "      <td>0.000635</td>\n",
              "      <td>0.001053</td>\n",
              "      <td>-0.000386</td>\n",
              "      <td>0.000188</td>\n",
              "    </tr>\n",
              "    <tr>\n",
              "      <th>B3SA3.SA</th>\n",
              "      <td>0.000078</td>\n",
              "      <td>0.001580</td>\n",
              "      <td>0.000036</td>\n",
              "      <td>0.000249</td>\n",
              "      <td>0.000406</td>\n",
              "      <td>0.000643</td>\n",
              "      <td>0.000345</td>\n",
              "      <td>-0.000027</td>\n",
              "      <td>0.000079</td>\n",
              "      <td>-0.000386</td>\n",
              "      <td>0.000437</td>\n",
              "      <td>0.000043</td>\n",
              "    </tr>\n",
              "    <tr>\n",
              "      <th>WEGE3.SA</th>\n",
              "      <td>-0.000353</td>\n",
              "      <td>0.000275</td>\n",
              "      <td>0.000068</td>\n",
              "      <td>0.000302</td>\n",
              "      <td>0.000476</td>\n",
              "      <td>0.000167</td>\n",
              "      <td>0.000131</td>\n",
              "      <td>0.000176</td>\n",
              "      <td>0.000517</td>\n",
              "      <td>0.000188</td>\n",
              "      <td>0.000043</td>\n",
              "      <td>0.000205</td>\n",
              "    </tr>\n",
              "  </tbody>\n",
              "</table>\n",
              "</div>"
            ],
            "text/plain": [
              "           PETR3.SA  MGLU3.SA  ITSA4.SA  ...  TRPL3.SA  B3SA3.SA  WEGE3.SA\n",
              "PETR3.SA   0.000733  0.000180  0.000034  ... -0.000293  0.000078 -0.000353\n",
              "MGLU3.SA   0.000180  0.005965  0.000399  ... -0.000972  0.001580  0.000275\n",
              "ITSA4.SA   0.000034  0.000399  0.000312  ...  0.000404  0.000036  0.000068\n",
              "RDOR3.SA  -0.000007  0.001778  0.001003  ...  0.001218  0.000249  0.000302\n",
              "LCAM3.SA  -0.000637  0.001847  0.000323  ...  0.000320  0.000406  0.000476\n",
              "BPAC11.SA -0.000038  0.002441  0.000158  ... -0.000360  0.000643  0.000167\n",
              "CSAN3.SA  -0.000029  0.001438  0.000227  ...  0.000016  0.000345  0.000131\n",
              "SMFT3.SA  -0.000343 -0.000020  0.000020  ...  0.000180 -0.000027  0.000176\n",
              "ARZZ3.SA  -0.000847  0.000673  0.000275  ...  0.000635  0.000079  0.000517\n",
              "TRPL3.SA  -0.000293 -0.000972  0.000404  ...  0.001053 -0.000386  0.000188\n",
              "B3SA3.SA   0.000078  0.001580  0.000036  ... -0.000386  0.000437  0.000043\n",
              "WEGE3.SA  -0.000353  0.000275  0.000068  ...  0.000188  0.000043  0.000205\n",
              "\n",
              "[12 rows x 12 columns]"
            ]
          },
          "metadata": {},
          "execution_count": 16
        }
      ]
    },
    {
      "cell_type": "code",
      "source": [
        "#4º passo: definir os pesos\n",
        "\n",
        "pesos_carteira = np.array([0.091, 0.054, 0.073, 0.058, 0.077, 0.042, 0.098, 0.056, \n",
        "                           0.053, 0.205, 0.036, 0.156])\n",
        "pesos_carteira = np.round(pesos_carteira * 100, 2)\n",
        "\n",
        "composicao = []\n",
        "\n",
        "for i in pesos_carteira:\n",
        "  composicao.append(f'{i}%')\n",
        "\n",
        "composicao"
      ],
      "metadata": {
        "colab": {
          "base_uri": "https://localhost:8080/"
        },
        "id": "mPZdmb5pzQn0",
        "outputId": "675266cc-6b23-47f4-9ab0-857e88c06aaf"
      },
      "execution_count": 17,
      "outputs": [
        {
          "output_type": "execute_result",
          "data": {
            "text/plain": [
              "['9.1%',\n",
              " '5.4%',\n",
              " '7.3%',\n",
              " '5.8%',\n",
              " '7.7%',\n",
              " '4.2%',\n",
              " '9.8%',\n",
              " '5.6%',\n",
              " '5.3%',\n",
              " '20.5%',\n",
              " '3.6%',\n",
              " '15.6%']"
            ]
          },
          "metadata": {},
          "execution_count": 17
        }
      ]
    },
    {
      "cell_type": "code",
      "source": [
        "#5º passo: retornos individuais\n",
        "\n",
        "retornos_individuais = (pesos_carteira * mean_carteira) * 100\n",
        "retornos_individuais = np.round(retornos_individuais, 2)\n",
        "\n",
        "retornos_individual = []\n",
        "\n",
        "for i in retornos_individuais:\n",
        "  retornos_individual.append(f'{i}%')\n",
        "\n",
        "retornos_individual"
      ],
      "metadata": {
        "colab": {
          "base_uri": "https://localhost:8080/"
        },
        "id": "Dtqv1Ic511_u",
        "outputId": "50c620fa-f2bf-4ef9-a146-76d0dfb982d0"
      },
      "execution_count": 18,
      "outputs": [
        {
          "output_type": "execute_result",
          "data": {
            "text/plain": [
              "['2.81%',\n",
              " '-8.72%',\n",
              " '-2.05%',\n",
              " '-4.29%',\n",
              " '7.29%',\n",
              " '-1.85%',\n",
              " '3.53%',\n",
              " '-2.64%',\n",
              " '-2.92%',\n",
              " '4.3%',\n",
              " '-0.73%',\n",
              " '-11.19%']"
            ]
          },
          "metadata": {},
          "execution_count": 18
        }
      ]
    },
    {
      "cell_type": "code",
      "source": [
        "#6º passo: retorno da carteira\n",
        "\n",
        "retorno_carteira = np.sum(pesos_carteira * mean_carteira)\n",
        "retorno_carteira"
      ],
      "metadata": {
        "colab": {
          "base_uri": "https://localhost:8080/"
        },
        "id": "NuAUD9480bq7",
        "outputId": "b5cb4c9c-f57e-49d8-8bf6-6b87e8149682"
      },
      "execution_count": 19,
      "outputs": [
        {
          "output_type": "execute_result",
          "data": {
            "text/plain": [
              "-0.16452386911663322"
            ]
          },
          "metadata": {},
          "execution_count": 19
        }
      ]
    },
    {
      "cell_type": "code",
      "source": [
        "#7º risco da carteira\n",
        "\n",
        "risco_carteira = np.sqrt(np.dot(pesos_carteira.T, np.dot(cov_carteira, pesos_carteira)))\n",
        "risco_carteira"
      ],
      "metadata": {
        "colab": {
          "base_uri": "https://localhost:8080/"
        },
        "id": "P8RstLZZ1p9t",
        "outputId": "2dd3c3bc-4404-48a4-8410-bb80ca661333"
      },
      "execution_count": 20,
      "outputs": [
        {
          "output_type": "execute_result",
          "data": {
            "text/plain": [
              "1.7915567971199733"
            ]
          },
          "metadata": {},
          "execution_count": 20
        }
      ]
    },
    {
      "cell_type": "code",
      "source": [
        "ret_simples_mean = np.round(ret_simples.iloc[:, :12].head().mean() * 100, 2)\n",
        "\n",
        "ret_ativo = []\n",
        "\n",
        "for i in ret_simples_mean:\n",
        "  ret_ativo.append(f'{i}%')\n",
        "\n",
        "ret_ativo"
      ],
      "metadata": {
        "colab": {
          "base_uri": "https://localhost:8080/"
        },
        "id": "bDLs3uxL0_MK",
        "outputId": "fa8f3729-6c8b-4e56-a19b-0dd6d89e4ad5"
      },
      "execution_count": 21,
      "outputs": [
        {
          "output_type": "execute_result",
          "data": {
            "text/plain": [
              "['-1.09%',\n",
              " '1.26%',\n",
              " '-0.68%',\n",
              " '-0.24%',\n",
              " '1.7%',\n",
              " '0.22%',\n",
              " '0.45%',\n",
              " '-0.48%',\n",
              " '0.17%',\n",
              " '-0.2%',\n",
              " '0.44%',\n",
              " '0.08%']"
            ]
          },
          "metadata": {},
          "execution_count": 21
        }
      ]
    },
    {
      "cell_type": "code",
      "source": [
        "#Tabela de desempenho\n",
        "\n",
        "desempenho = pd.DataFrame(index=tickers[:12])\n",
        "desempenho['Composição'] = composicao\n",
        "desempenho['Preço Inicial'] = preco_inicio\n",
        "desempenho['Preço Final'] = preco_fim\n",
        "desempenho['Retorno do Ativo'] = ret_ativo\n",
        "desempenho['Retorno na Carteira'] = retornos_individual\n",
        "\n",
        "desempenho"
      ],
      "metadata": {
        "colab": {
          "base_uri": "https://localhost:8080/",
          "height": 426
        },
        "id": "5VKS79Uwda9L",
        "outputId": "43b07763-279e-4fca-dd84-d1a1bb49d1f8"
      },
      "execution_count": 22,
      "outputs": [
        {
          "output_type": "execute_result",
          "data": {
            "text/html": [
              "<div>\n",
              "<style scoped>\n",
              "    .dataframe tbody tr th:only-of-type {\n",
              "        vertical-align: middle;\n",
              "    }\n",
              "\n",
              "    .dataframe tbody tr th {\n",
              "        vertical-align: top;\n",
              "    }\n",
              "\n",
              "    .dataframe thead th {\n",
              "        text-align: right;\n",
              "    }\n",
              "</style>\n",
              "<table border=\"1\" class=\"dataframe\">\n",
              "  <thead>\n",
              "    <tr style=\"text-align: right;\">\n",
              "      <th></th>\n",
              "      <th>Composição</th>\n",
              "      <th>Preço Inicial</th>\n",
              "      <th>Preço Final</th>\n",
              "      <th>Retorno do Ativo</th>\n",
              "      <th>Retorno na Carteira</th>\n",
              "    </tr>\n",
              "  </thead>\n",
              "  <tbody>\n",
              "    <tr>\n",
              "      <th>PETR3.SA</th>\n",
              "      <td>9.1%</td>\n",
              "      <td>R$ 25.63</td>\n",
              "      <td>R$ 26.93</td>\n",
              "      <td>-1.09%</td>\n",
              "      <td>2.81%</td>\n",
              "    </tr>\n",
              "    <tr>\n",
              "      <th>MGLU3.SA</th>\n",
              "      <td>5.4%</td>\n",
              "      <td>R$ 11.3</td>\n",
              "      <td>R$ 8.04</td>\n",
              "      <td>1.26%</td>\n",
              "      <td>-8.72%</td>\n",
              "    </tr>\n",
              "    <tr>\n",
              "      <th>ITSA4.SA</th>\n",
              "      <td>7.3%</td>\n",
              "      <td>R$ 10.3</td>\n",
              "      <td>R$ 9.77</td>\n",
              "      <td>-0.68%</td>\n",
              "      <td>-2.05%</td>\n",
              "    </tr>\n",
              "    <tr>\n",
              "      <th>RDOR3.SA</th>\n",
              "      <td>5.8%</td>\n",
              "      <td>R$ 58.99</td>\n",
              "      <td>R$ 51.25</td>\n",
              "      <td>-0.24%</td>\n",
              "      <td>-4.29%</td>\n",
              "    </tr>\n",
              "    <tr>\n",
              "      <th>LCAM3.SA</th>\n",
              "      <td>7.7%</td>\n",
              "      <td>R$ 20.01</td>\n",
              "      <td>R$ 23.54</td>\n",
              "      <td>1.7%</td>\n",
              "      <td>7.29%</td>\n",
              "    </tr>\n",
              "    <tr>\n",
              "      <th>BPAC11.SA</th>\n",
              "      <td>4.2%</td>\n",
              "      <td>R$ 23.59</td>\n",
              "      <td>R$ 21.54</td>\n",
              "      <td>0.22%</td>\n",
              "      <td>-1.85%</td>\n",
              "    </tr>\n",
              "    <tr>\n",
              "      <th>CSAN3.SA</th>\n",
              "      <td>9.8%</td>\n",
              "      <td>R$ 20.19</td>\n",
              "      <td>R$ 21.48</td>\n",
              "      <td>0.45%</td>\n",
              "      <td>3.53%</td>\n",
              "    </tr>\n",
              "    <tr>\n",
              "      <th>SMFT3.SA</th>\n",
              "      <td>5.6%</td>\n",
              "      <td>R$ 20.81</td>\n",
              "      <td>R$ 18.87</td>\n",
              "      <td>-0.48%</td>\n",
              "      <td>-2.64%</td>\n",
              "    </tr>\n",
              "    <tr>\n",
              "      <th>ARZZ3.SA</th>\n",
              "      <td>5.3%</td>\n",
              "      <td>R$ 75.39</td>\n",
              "      <td>R$ 67.65</td>\n",
              "      <td>0.17%</td>\n",
              "      <td>-2.92%</td>\n",
              "    </tr>\n",
              "    <tr>\n",
              "      <th>TRPL3.SA</th>\n",
              "      <td>20.5%</td>\n",
              "      <td>R$ 30.53</td>\n",
              "      <td>R$ 31.3</td>\n",
              "      <td>-0.2%</td>\n",
              "      <td>4.3%</td>\n",
              "    </tr>\n",
              "    <tr>\n",
              "      <th>B3SA3.SA</th>\n",
              "      <td>3.6%</td>\n",
              "      <td>R$ 11.98</td>\n",
              "      <td>R$ 11.5</td>\n",
              "      <td>0.44%</td>\n",
              "      <td>-0.73%</td>\n",
              "    </tr>\n",
              "    <tr>\n",
              "      <th>WEGE3.SA</th>\n",
              "      <td>15.6%</td>\n",
              "      <td>R$ 36.96</td>\n",
              "      <td>R$ 32.41</td>\n",
              "      <td>0.08%</td>\n",
              "      <td>-11.19%</td>\n",
              "    </tr>\n",
              "  </tbody>\n",
              "</table>\n",
              "</div>"
            ],
            "text/plain": [
              "          Composição Preço Inicial  ... Retorno do Ativo Retorno na Carteira\n",
              "PETR3.SA        9.1%      R$ 25.63  ...           -1.09%               2.81%\n",
              "MGLU3.SA        5.4%       R$ 11.3  ...            1.26%              -8.72%\n",
              "ITSA4.SA        7.3%       R$ 10.3  ...           -0.68%              -2.05%\n",
              "RDOR3.SA        5.8%      R$ 58.99  ...           -0.24%              -4.29%\n",
              "LCAM3.SA        7.7%      R$ 20.01  ...             1.7%               7.29%\n",
              "BPAC11.SA       4.2%      R$ 23.59  ...            0.22%              -1.85%\n",
              "CSAN3.SA        9.8%      R$ 20.19  ...            0.45%               3.53%\n",
              "SMFT3.SA        5.6%      R$ 20.81  ...           -0.48%              -2.64%\n",
              "ARZZ3.SA        5.3%      R$ 75.39  ...            0.17%              -2.92%\n",
              "TRPL3.SA       20.5%      R$ 30.53  ...            -0.2%                4.3%\n",
              "B3SA3.SA        3.6%      R$ 11.98  ...            0.44%              -0.73%\n",
              "WEGE3.SA       15.6%      R$ 36.96  ...            0.08%             -11.19%\n",
              "\n",
              "[12 rows x 5 columns]"
            ]
          },
          "metadata": {},
          "execution_count": 22
        }
      ]
    },
    {
      "cell_type": "code",
      "source": [
        "#desempenho.to_csv('desempenho_invest.csv', sep=',');"
      ],
      "metadata": {
        "id": "wwDWHuScRTl6"
      },
      "execution_count": 23,
      "outputs": []
    }
  ]
}